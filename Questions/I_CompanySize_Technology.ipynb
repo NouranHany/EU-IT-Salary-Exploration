{
 "cells": [
  {
   "cell_type": "code",
   "execution_count": 1,
   "metadata": {},
   "outputs": [],
   "source": [
    "import warnings\n",
    "warnings.filterwarnings(\"ignore\")\n",
    "\n",
    "from E_Salary_Cities import *\n",
    "from I_CompanySize_Technology import *"
   ]
  },
  {
   "attachments": {},
   "cell_type": "markdown",
   "metadata": {},
   "source": [
    "<div style=\"border-width:1; border-radius: 15px; border-style: solid; border-color: rgb(10, 10, 10); background-color: #316B83; text-align: center;font: 14pt 'Candara';font-weight:bold;\"><h1> State & Refine QS</h1></div>"
   ]
  },
  {
   "cell_type": "code",
   "execution_count": 2,
   "metadata": {},
   "outputs": [],
   "source": [
    "COMPANY_SIZE='Company size'\n",
    "TECHNOLOGY='Your main technology / programming language'\n",
    "BIG='1000+'\n",
    "MEDIUM='100-1000'\n",
    "df_2020,df_2019,df_2018=read()\n",
    "df_merged=merge([df_2020,df_2019],common_columns=[COMPANY_SIZE,TECHNOLOGY])"
   ]
  },
  {
   "cell_type": "code",
   "execution_count": 3,
   "metadata": {},
   "outputs": [
    {
     "data": {
      "text/html": [
       "<div>\n",
       "<style scoped>\n",
       "    .dataframe tbody tr th:only-of-type {\n",
       "        vertical-align: middle;\n",
       "    }\n",
       "\n",
       "    .dataframe tbody tr th {\n",
       "        vertical-align: top;\n",
       "    }\n",
       "\n",
       "    .dataframe thead th {\n",
       "        text-align: right;\n",
       "    }\n",
       "</style>\n",
       "<table border=\"1\" class=\"dataframe\">\n",
       "  <thead>\n",
       "    <tr style=\"text-align: right;\">\n",
       "      <th></th>\n",
       "      <th>Company size</th>\n",
       "      <th>Your main technology / programming language</th>\n",
       "    </tr>\n",
       "  </thead>\n",
       "  <tbody>\n",
       "    <tr>\n",
       "      <th>0</th>\n",
       "      <td>51-100</td>\n",
       "      <td>TypeScript</td>\n",
       "    </tr>\n",
       "    <tr>\n",
       "      <th>1</th>\n",
       "      <td>101-1000</td>\n",
       "      <td>Ruby</td>\n",
       "    </tr>\n",
       "    <tr>\n",
       "      <th>2</th>\n",
       "      <td>101-1000</td>\n",
       "      <td>Javascript / Typescript</td>\n",
       "    </tr>\n",
       "    <tr>\n",
       "      <th>3</th>\n",
       "      <td>51-100</td>\n",
       "      <td>Javascript</td>\n",
       "    </tr>\n",
       "    <tr>\n",
       "      <th>4</th>\n",
       "      <td>101-1000</td>\n",
       "      <td>C# .NET</td>\n",
       "    </tr>\n",
       "  </tbody>\n",
       "</table>\n",
       "</div>"
      ],
      "text/plain": [
       "  Company size Your main technology / programming language\n",
       "0       51-100                                  TypeScript\n",
       "1     101-1000                                        Ruby\n",
       "2     101-1000                     Javascript / Typescript\n",
       "3       51-100                                  Javascript\n",
       "4     101-1000                                     C# .NET"
      ]
     },
     "execution_count": 3,
     "metadata": {},
     "output_type": "execute_result"
    }
   ],
   "source": [
    "df_merged.head()"
   ]
  },
  {
   "attachments": {},
   "cell_type": "markdown",
   "metadata": {},
   "source": [
    "> #### _`QS: What is the most used technology in Software Engineering for a mid-sized level company? `_\n",
    "> #### _`QS: Can we say the same technology is the most popular for a big-sized company or not?  `_\n",
    ">|Set Expectation | Collect Info | Match Results| \n",
    ">|----|----|----|\n",
    ">| The Quetsion is Answerable & of interest & Novel | Did some reasearch online and poeple always ask what language do we need to learn  and Which coding languages are used by the world’s top companies?|_`Matches`_  because people may be interested in this question as the language can influence their job opportunities and career growth.Knowing these languages could potentially increase a programmer’s chances of being hired by these companies Such af FAANG companies |\n"
   ]
  },
  {
   "attachments": {},
   "cell_type": "markdown",
   "metadata": {},
   "source": [
    "<div style=\"border-width:1; border-radius: 15px; border-style: solid; border-color: rgb(10, 10, 10); background-color: #316B83; text-align: center;font: 14pt 'Candara';font-weight:bold;\"><h1> Explore Data</h1></div>"
   ]
  },
  {
   "attachments": {},
   "cell_type": "markdown",
   "metadata": {},
   "source": [
    "> ***\n",
    "> ### _`Some Data Cleaning`_\n",
    "> ***"
   ]
  },
  {
   "cell_type": "code",
   "execution_count": 4,
   "metadata": {},
   "outputs": [
    {
     "name": "stdout",
     "output_type": "stream",
     "text": [
      "Before cleaning, Company sizes :  ['51-100' '101-1000' '11-50' '1000+' nan 'up to 10' '50-100' '10-50'\n",
      " '100-1000']\n",
      "After cleaning, Company sizes :  ['50-100' '100-1000' '10-50' '1000+' 'up to 10']\n"
     ]
    }
   ],
   "source": [
    "print(\"Before cleaning, Company sizes : \",df_merged[COMPANY_SIZE].unique())\n",
    "df_cleaned=clean_company_size(df=df_merged,company_size=COMPANY_SIZE)\n",
    "print(\"After cleaning, Company sizes : \",df_cleaned[COMPANY_SIZE].unique())"
   ]
  },
  {
   "cell_type": "code",
   "execution_count": 5,
   "metadata": {},
   "outputs": [
    {
     "data": {
      "image/png": "[encoded data removed]",
      "text/plain": [
       "<Figure size 640x480 with 1 Axes>"
      ]
     },
     "metadata": {},
     "output_type": "display_data"
    }
   ],
   "source": [
    "plot_single_histogram(df=df_cleaned,column=COMPANY_SIZE)"
   ]
  },
  {
   "attachments": {},
   "cell_type": "markdown",
   "metadata": {},
   "source": [
    "> ***\n",
    "> ### _`Interpretations:`_\n",
    "> - _`We can see that the big Sized Companies (1000+) have the highest % in the dataset`_\n",
    "> - _`Followed by Mid Sized Companies (100-1000) `_\n",
    "> - _`The number of people in each category of Bigsized and MidSized are quite close to each other `_\n",
    "> ***"
   ]
  },
  {
   "cell_type": "code",
   "execution_count": 6,
   "metadata": {},
   "outputs": [
    {
     "name": "stdout",
     "output_type": "stream",
     "text": [
      "Before cleaning : 274  unique technology \n",
      "After cleaning : 17  unique technology \n"
     ]
    }
   ],
   "source": [
    "print('Before cleaning : {}  unique technology '.format(df_cleaned[TECHNOLOGY].nunique()))\n",
    "df_cleaned=clean_technology(df=df_cleaned,column=TECHNOLOGY,filter=30)\n",
    "print('After cleaning : {}  unique technology '.format(df_cleaned[TECHNOLOGY].nunique()))"
   ]
  },
  {
   "cell_type": "code",
   "execution_count": 7,
   "metadata": {},
   "outputs": [
    {
     "data": {
      "image/png": "[encoded data removed]",
      "text/plain": [
       "<Figure size 640x480 with 1 Axes>"
      ]
     },
     "metadata": {},
     "output_type": "display_data"
    }
   ],
   "source": [
    "plot_single_histogram(df=df_cleaned,column=TECHNOLOGY,title='The language Distribution among all companies')"
   ]
  },
  {
   "attachments": {},
   "cell_type": "markdown",
   "metadata": {},
   "source": [
    "> ***\n",
    "> ### _`Interpretations:`_\n",
    "> - _`We can see that generally python is the most used technology  among the rest of the technologies regardless of the company size`_\n",
    "> - _`Followd by Java which is still a very big peak`_\n",
    "> - _`This was done after filtering those technologies with frequency less than 30 in the dataset`_\n",
    "> ***"
   ]
  },
  {
   "cell_type": "code",
   "execution_count": 8,
   "metadata": {},
   "outputs": [
    {
     "data": {
      "image/png": "[encoded data removed]",
      "text/plain": [
       "<Figure size 1000x500 with 2 Axes>"
      ]
     },
     "metadata": {},
     "output_type": "display_data"
    }
   ],
   "source": [
    "df=df_cleaned[df_cleaned[COMPANY_SIZE].isin([BIG,MEDIUM])]\n",
    "plot_histogram_grid(df, TECHNOLOGY, COMPANY_SIZE)"
   ]
  },
  {
   "attachments": {},
   "cell_type": "markdown",
   "metadata": {},
   "source": [
    "> ***\n",
    "> ### _`Interpretations:`_\n",
    "> - _`Java is the most used technology in the midsized companies followed by python & javascript`_\n",
    "> - _`In BigSized companies it is python then Java. Still javascript is the 3rd most used technology in bigsized companies`_\n",
    "> ***"
   ]
  },
  {
   "attachments": {},
   "cell_type": "markdown",
   "metadata": {},
   "source": [
    ">|Set Expectation | Collect Info | Match Results| \n",
    ">|----|----|----|\n",
    ">| Python to be the most used langauge in all company sizes |  Showed Several plots |_`DIDnot Match`_  looking back at the distribution of langauages used. Yes although python is the most used, still java is frequently used by a minor difference between them|\n"
   ]
  },
  {
   "attachments": {},
   "cell_type": "markdown",
   "metadata": {},
   "source": [
    "<div style=\"border-width:1; border-radius: 15px; border-style: solid; border-color: rgb(10, 10, 10); background-color: #316B83; text-align: center;font: 14pt 'Candara';font-weight:bold;\"><h1> Build Models</h1></div>"
   ]
  },
  {
   "attachments": {},
   "cell_type": "markdown",
   "metadata": {},
   "source": [
    "> ***\n",
    "> ### _`Z_test for proportion`_\n",
    "> - _`We need to proof that \"Java\" which is the most used technology in Midsized companies , is the most used in Medium sized companies or not?`_\n",
    "> - _`So typically to perform such test, we will need to perform \"z test for propotion\" for EVERY  technology other than \"Java\" `_\n",
    "> \n",
    "> ${H}_{o} : \\% Java <= \\%technology $ \n",
    ">\n",
    "> _`where technology is all other technologies in Big sized companies other than Java `_ \n",
    ">\n",
    "> ${H}_{a} : \\% Java > \\%technology $\n",
    ">\n",
    "> #### _`Ztest for proportion `_\n",
    "> - _`Assumes that we have atleast 10 records to perform it`_\n",
    "> - _`Here it is right tailed test , so we must have z_values >0`_\n",
    "> - _`the restured Pvalue should be divide by 2`_\n",
    "> ***"
   ]
  },
  {
   "cell_type": "code",
   "execution_count": 15,
   "metadata": {},
   "outputs": [
    {
     "data": {
      "text/html": [
       "<div>\n",
       "<style scoped>\n",
       "    .dataframe tbody tr th:only-of-type {\n",
       "        vertical-align: middle;\n",
       "    }\n",
       "\n",
       "    .dataframe tbody tr th {\n",
       "        vertical-align: top;\n",
       "    }\n",
       "\n",
       "    .dataframe thead th {\n",
       "        text-align: right;\n",
       "    }\n",
       "</style>\n",
       "<table border=\"1\" class=\"dataframe\">\n",
       "  <thead>\n",
       "    <tr style=\"text-align: right;\">\n",
       "      <th></th>\n",
       "      <th>typescript</th>\n",
       "      <th>php</th>\n",
       "      <th>javascript</th>\n",
       "      <th>python</th>\n",
       "      <th>c#</th>\n",
       "      <th>scala</th>\n",
       "      <th>go</th>\n",
       "      <th>kotlin</th>\n",
       "      <th>swift</th>\n",
       "      <th>c++</th>\n",
       "      <th>.net</th>\n",
       "      <th>r</th>\n",
       "      <th>sql</th>\n",
       "      <th>c</th>\n",
       "      <th>aws</th>\n",
       "    </tr>\n",
       "  </thead>\n",
       "  <tbody>\n",
       "    <tr>\n",
       "      <th>0</th>\n",
       "      <td>True</td>\n",
       "      <td>True</td>\n",
       "      <td>True</td>\n",
       "      <td>False</td>\n",
       "      <td>True</td>\n",
       "      <td>True</td>\n",
       "      <td>True</td>\n",
       "      <td>True</td>\n",
       "      <td>True</td>\n",
       "      <td>True</td>\n",
       "      <td>True</td>\n",
       "      <td>True</td>\n",
       "      <td>True</td>\n",
       "      <td>True</td>\n",
       "      <td>True</td>\n",
       "    </tr>\n",
       "  </tbody>\n",
       "</table>\n",
       "</div>"
      ],
      "text/plain": [
       "   typescript   php  javascript  python    c#  scala    go  kotlin  swift  \\\n",
       "0        True  True        True   False  True   True  True    True   True   \n",
       "\n",
       "    c++  .net     r   sql     c   aws  \n",
       "0  True  True  True  True  True  True  "
      ]
     },
     "execution_count": 15,
     "metadata": {},
     "output_type": "execute_result"
    }
   ],
   "source": [
    "\n",
    "df_big_companies= df_cleaned[df_cleaned[COMPANY_SIZE]==BIG]\n",
    "df_medium_companies = df_cleaned[df_cleaned[COMPANY_SIZE]==MEDIUM]\n",
    "# Get the technology with the highest count in medium sized companies\n",
    "max_technology = df_medium_companies[TECHNOLOGY].value_counts().idxmax()\n",
    "hypothesis_result,pvals=z_test_proportion_companies(max_technology,df_cleaned,COMPANY_SIZE,BIG,MEDIUM,TECHNOLOGY)\n",
    "hypothesis_result"
   ]
  },
  {
   "cell_type": "code",
   "execution_count": 16,
   "metadata": {},
   "outputs": [
    {
     "data": {
      "text/html": [
       "<div>\n",
       "<style scoped>\n",
       "    .dataframe tbody tr th:only-of-type {\n",
       "        vertical-align: middle;\n",
       "    }\n",
       "\n",
       "    .dataframe tbody tr th {\n",
       "        vertical-align: top;\n",
       "    }\n",
       "\n",
       "    .dataframe thead th {\n",
       "        text-align: right;\n",
       "    }\n",
       "</style>\n",
       "<table border=\"1\" class=\"dataframe\">\n",
       "  <thead>\n",
       "    <tr style=\"text-align: right;\">\n",
       "      <th></th>\n",
       "      <th>typescript</th>\n",
       "      <th>php</th>\n",
       "      <th>javascript</th>\n",
       "      <th>python</th>\n",
       "      <th>c#</th>\n",
       "      <th>scala</th>\n",
       "      <th>go</th>\n",
       "      <th>kotlin</th>\n",
       "      <th>swift</th>\n",
       "      <th>c++</th>\n",
       "      <th>.net</th>\n",
       "      <th>r</th>\n",
       "      <th>sql</th>\n",
       "      <th>c</th>\n",
       "      <th>aws</th>\n",
       "    </tr>\n",
       "  </thead>\n",
       "  <tbody>\n",
       "    <tr>\n",
       "      <th>0</th>\n",
       "      <td>7.516371e-12</td>\n",
       "      <td>5.460280e-22</td>\n",
       "      <td>8.910403e-10</td>\n",
       "      <td>0.050305</td>\n",
       "      <td>2.810997e-29</td>\n",
       "      <td>1.824423e-26</td>\n",
       "      <td>5.229500e-27</td>\n",
       "      <td>5.460280e-22</td>\n",
       "      <td>6.803170e-25</td>\n",
       "      <td>2.711224e-16</td>\n",
       "      <td>6.841573e-24</td>\n",
       "      <td>6.803170e-25</td>\n",
       "      <td>1.465858e-27</td>\n",
       "      <td>6.803170e-25</td>\n",
       "      <td>6.351995e-23</td>\n",
       "    </tr>\n",
       "  </tbody>\n",
       "</table>\n",
       "</div>"
      ],
      "text/plain": [
       "     typescript           php    javascript    python            c#  \\\n",
       "0  7.516371e-12  5.460280e-22  8.910403e-10  0.050305  2.810997e-29   \n",
       "\n",
       "          scala            go        kotlin         swift           c++  \\\n",
       "0  1.824423e-26  5.229500e-27  5.460280e-22  6.803170e-25  2.711224e-16   \n",
       "\n",
       "           .net             r           sql             c           aws  \n",
       "0  6.841573e-24  6.803170e-25  1.465858e-27  6.803170e-25  6.351995e-23  "
      ]
     },
     "execution_count": 16,
     "metadata": {},
     "output_type": "execute_result"
    }
   ],
   "source": [
    "pvals"
   ]
  },
  {
   "cell_type": "code",
   "execution_count": 17,
   "metadata": {},
   "outputs": [
    {
     "data": {
      "text/html": [
       "<div>\n",
       "<style scoped>\n",
       "    .dataframe tbody tr th:only-of-type {\n",
       "        vertical-align: middle;\n",
       "    }\n",
       "\n",
       "    .dataframe tbody tr th {\n",
       "        vertical-align: top;\n",
       "    }\n",
       "\n",
       "    .dataframe thead th {\n",
       "        text-align: right;\n",
       "    }\n",
       "</style>\n",
       "<table border=\"1\" class=\"dataframe\">\n",
       "  <thead>\n",
       "    <tr style=\"text-align: right;\">\n",
       "      <th></th>\n",
       "      <th>typescript</th>\n",
       "      <th>php</th>\n",
       "      <th>javascript</th>\n",
       "      <th>java</th>\n",
       "      <th>c#</th>\n",
       "      <th>scala</th>\n",
       "      <th>go</th>\n",
       "      <th>kotlin</th>\n",
       "      <th>swift</th>\n",
       "      <th>c++</th>\n",
       "      <th>.net</th>\n",
       "      <th>r</th>\n",
       "      <th>sql</th>\n",
       "      <th>c</th>\n",
       "      <th>aws</th>\n",
       "    </tr>\n",
       "  </thead>\n",
       "  <tbody>\n",
       "    <tr>\n",
       "      <th>0</th>\n",
       "      <td>True</td>\n",
       "      <td>True</td>\n",
       "      <td>True</td>\n",
       "      <td>False</td>\n",
       "      <td>True</td>\n",
       "      <td>True</td>\n",
       "      <td>True</td>\n",
       "      <td>True</td>\n",
       "      <td>True</td>\n",
       "      <td>True</td>\n",
       "      <td>True</td>\n",
       "      <td>True</td>\n",
       "      <td>True</td>\n",
       "      <td>True</td>\n",
       "      <td>True</td>\n",
       "    </tr>\n",
       "  </tbody>\n",
       "</table>\n",
       "</div>"
      ],
      "text/plain": [
       "   typescript   php  javascript   java    c#  scala    go  kotlin  swift  \\\n",
       "0        True  True        True  False  True   True  True    True   True   \n",
       "\n",
       "    c++  .net     r   sql     c   aws  \n",
       "0  True  True  True  True  True  True  "
      ]
     },
     "execution_count": 17,
     "metadata": {},
     "output_type": "execute_result"
    }
   ],
   "source": [
    "# Get the technology with the highest count in big sized companies\n",
    "max_technology = df_big_companies[TECHNOLOGY].value_counts().idxmax()\n",
    "hypothesis_result,pvals=z_test_proportion_companies(max_technology,df_cleaned,COMPANY_SIZE,BIG,MEDIUM,TECHNOLOGY)\n",
    "hypothesis_result"
   ]
  },
  {
   "cell_type": "code",
   "execution_count": 18,
   "metadata": {},
   "outputs": [
    {
     "data": {
      "text/html": [
       "<div>\n",
       "<style scoped>\n",
       "    .dataframe tbody tr th:only-of-type {\n",
       "        vertical-align: middle;\n",
       "    }\n",
       "\n",
       "    .dataframe tbody tr th {\n",
       "        vertical-align: top;\n",
       "    }\n",
       "\n",
       "    .dataframe thead th {\n",
       "        text-align: right;\n",
       "    }\n",
       "</style>\n",
       "<table border=\"1\" class=\"dataframe\">\n",
       "  <thead>\n",
       "    <tr style=\"text-align: right;\">\n",
       "      <th></th>\n",
       "      <th>typescript</th>\n",
       "      <th>php</th>\n",
       "      <th>javascript</th>\n",
       "      <th>java</th>\n",
       "      <th>c#</th>\n",
       "      <th>scala</th>\n",
       "      <th>go</th>\n",
       "      <th>kotlin</th>\n",
       "      <th>swift</th>\n",
       "      <th>c++</th>\n",
       "      <th>.net</th>\n",
       "      <th>r</th>\n",
       "      <th>sql</th>\n",
       "      <th>c</th>\n",
       "      <th>aws</th>\n",
       "    </tr>\n",
       "  </thead>\n",
       "  <tbody>\n",
       "    <tr>\n",
       "      <th>0</th>\n",
       "      <td>6.156792e-17</td>\n",
       "      <td>2.426741e-28</td>\n",
       "      <td>1.838825e-14</td>\n",
       "      <td>0.050305</td>\n",
       "      <td>4.450144e-36</td>\n",
       "      <td>3.963486e-33</td>\n",
       "      <td>1.060785e-33</td>\n",
       "      <td>2.426741e-28</td>\n",
       "      <td>1.841595e-31</td>\n",
       "      <td>4.733124e-22</td>\n",
       "      <td>2.168037e-30</td>\n",
       "      <td>1.841595e-31</td>\n",
       "      <td>2.783401e-34</td>\n",
       "      <td>1.841595e-31</td>\n",
       "      <td>2.375137e-29</td>\n",
       "    </tr>\n",
       "  </tbody>\n",
       "</table>\n",
       "</div>"
      ],
      "text/plain": [
       "     typescript           php    javascript      java            c#  \\\n",
       "0  6.156792e-17  2.426741e-28  1.838825e-14  0.050305  4.450144e-36   \n",
       "\n",
       "          scala            go        kotlin         swift           c++  \\\n",
       "0  3.963486e-33  1.060785e-33  2.426741e-28  1.841595e-31  4.733124e-22   \n",
       "\n",
       "           .net             r           sql             c           aws  \n",
       "0  2.168037e-30  1.841595e-31  2.783401e-34  1.841595e-31  2.375137e-29  "
      ]
     },
     "execution_count": 18,
     "metadata": {},
     "output_type": "execute_result"
    }
   ],
   "source": [
    "pvals"
   ]
  },
  {
   "attachments": {},
   "cell_type": "markdown",
   "metadata": {},
   "source": [
    "<!-- https://mverbakel.github.io/2021-02-13/two-sample-proportions -->"
   ]
  },
  {
   "attachments": {},
   "cell_type": "markdown",
   "metadata": {},
   "source": [
    "https://mverbakel.github.io/2021-02-13/two-sample-proportions"
   ]
  },
  {
   "attachments": {},
   "cell_type": "markdown",
   "metadata": {},
   "source": [
    ">|Set Expectation | Collect Info | Match Results| \n",
    ">|----|----|----|\n",
    ">| Java to be the most used langauge in all Big sized companies |  Did z hypothesis testing for proprotion |_`DIDnot Match`_  looking back at the distribution of langauages , we found out that Python is the most used language in  Big sized companies |\n"
   ]
  },
  {
   "attachments": {},
   "cell_type": "markdown",
   "metadata": {},
   "source": [
    "<div style=\"border-width:1; border-radius: 15px; border-style: solid; border-color: rgb(10, 10, 10); background-color: #316B83; text-align: center;font: 14pt 'Candara';font-weight:bold;\"><h1> Interpret Results</h1></div>"
   ]
  },
  {
   "attachments": {},
   "cell_type": "markdown",
   "metadata": {},
   "source": [
    "> ***\n",
    "> ### _`Interpretations:`_\n",
    "> - _`Java is the most used technology in the midsized companies exculding python`_\n",
    "> - _`It MAYBE the case that java < python in midsized companies  but we doesnot have evidence to suggest that over the population`_\n",
    "> ***"
   ]
  },
  {
   "attachments": {},
   "cell_type": "markdown",
   "metadata": {},
   "source": [
    "<div style=\"border-width:1; border-radius: 15px; border-style: solid; border-color: rgb(10, 10, 10); background-color: #316B83; text-align: center;font: 14pt 'Candara';font-weight:bold;\"><h1> Communicate Results</h1></div>"
   ]
  },
  {
   "attachments": {},
   "cell_type": "markdown",
   "metadata": {},
   "source": [
    "> ***\n",
    "> ### _`Suggestions:`_\n",
    "> - _`It seems that Java & python are in a very competitive case. Although no certain case that shows that one language is more dominant than the other , it is still a good potential if you are a new learner and want to join the field to start with one of these 2 language.`_\n",
    "> -`So we are just narrowing down the space of searching to only 2 language & you might  be condifent that one of these is top in Big sized companies if you wish to join the big companies`\n",
    "> ***"
   ]
  }
 ],
 "metadata": {
  "kernelspec": {
   "display_name": "Python 3",
   "language": "python",
   "name": "python3"
  },
  "language_info": {
   "codemirror_mode": {
    "name": "ipython",
    "version": 3
   },
   "file_extension": ".py",
   "mimetype": "text/x-python",
   "name": "python",
   "nbconvert_exporter": "python",
   "pygments_lexer": "ipython3",
   "version": "3.11.1"
  },
  "orig_nbformat": 4
 },
 "nbformat": 4,
 "nbformat_minor": 2
}
