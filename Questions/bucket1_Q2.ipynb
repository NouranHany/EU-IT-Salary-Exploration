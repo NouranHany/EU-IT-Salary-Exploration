{
 "cells": [
  {
   "attachments": {},
   "cell_type": "markdown",
   "metadata": {},
   "source": [
    "Question 2\n",
    "What is the relationship between contract duration & annual salary? "
   ]
  },
  {
   "cell_type": "code",
   "execution_count": 256,
   "metadata": {},
   "outputs": [],
   "source": [
    "import pandas as pd\n",
    "from utils import data_pre, count_nan_values\n",
    "import re\n"
   ]
  },
  {
   "cell_type": "code",
   "execution_count": 257,
   "metadata": {},
   "outputs": [
    {
     "name": "stdout",
     "output_type": "stream",
     "text": [
      "['Startup' 'Product' nan 'Consulting / Agency' 'Bodyshop / Outsource'\n",
      " 'University' 'Bank' 'Outsource']\n"
     ]
    }
   ],
   "source": [
    "df = pd.DataFrame()\n",
    "df = data_pre(df)"
   ]
  },
  {
   "cell_type": "code",
   "execution_count": 258,
   "metadata": {},
   "outputs": [],
   "source": [
    "contract_salary = df[['Contract_Duration','Salary']].dropna()\n"
   ]
  },
  {
   "attachments": {},
   "cell_type": "markdown",
   "metadata": {},
   "source": [
    "Salary statistics"
   ]
  },
  {
   "cell_type": "code",
   "execution_count": 259,
   "metadata": {},
   "outputs": [
    {
     "name": "stdout",
     "output_type": "stream",
     "text": [
      "    Contract_Duration    Salary\n",
      "0  unlimited contract   80000.0\n",
      "1  unlimited contract   80000.0\n",
      "2  temporary contract  120000.0\n",
      "3  unlimited contract   54000.0\n",
      "4  unlimited contract   62000.0\n"
     ]
    }
   ],
   "source": [
    "print(contract_salary.head(5))"
   ]
  },
  {
   "attachments": {},
   "cell_type": "markdown",
   "metadata": {},
   "source": [
    "Salaries are all in Euro, no need to unify the currency . we will use it directly"
   ]
  },
  {
   "cell_type": "code",
   "execution_count": 260,
   "metadata": {},
   "outputs": [
    {
     "name": "stdout",
     "output_type": "stream",
     "text": [
      "There are 0 missing salary/ies\n"
     ]
    }
   ],
   "source": [
    "print(\"There are\",count_nan_values(df,'Salary'),\"missing salary/ies\")"
   ]
  },
  {
   "attachments": {},
   "cell_type": "markdown",
   "metadata": {},
   "source": [
    "No missing data for the salary column, no need to impute."
   ]
  },
  {
   "cell_type": "code",
   "execution_count": 261,
   "metadata": {},
   "outputs": [
    {
     "name": "stdout",
     "output_type": "stream",
     "text": [
      "Mean salary:  44878054.81102541\n",
      "Median salary:  70000.0\n",
      "Standard deviation of salary:  2111492333.8801577\n",
      "Max salary:  99999999999.0\n",
      "Min salary:  6000.0\n"
     ]
    }
   ],
   "source": [
    "# compute mean, median, and standard deviation of a column\n",
    "mean_salary = contract_salary['Salary'].astype(float).mean()\n",
    "median_salary = contract_salary['Salary'].astype(float).median()\n",
    "std_salary = contract_salary['Salary'].astype(float).std()\n",
    "max_salary = contract_salary['Salary'].astype(float).max()\n",
    "min_salary = contract_salary['Salary'].astype(float).min()\n",
    "\n",
    "# display the computed statistics\n",
    "print('Mean salary: ', mean_salary)\n",
    "print('Median salary: ', median_salary)\n",
    "print('Standard deviation of salary: ', std_salary)\n",
    "print('Max salary: ', max_salary)\n",
    "print('Min salary: ', min_salary)\n"
   ]
  },
  {
   "cell_type": "code",
   "execution_count": 262,
   "metadata": {},
   "outputs": [],
   "source": [
    "contract_salary = contract_salary[contract_salary['Salary'] != 'nan']\n",
    "contract_salary['Salary'] = contract_salary['Salary'].astype('float64')\n",
    "contract_salary['Salary'] = contract_salary['Salary'].astype('int64')"
   ]
  },
  {
   "cell_type": "code",
   "execution_count": 263,
   "metadata": {},
   "outputs": [
    {
     "data": {
      "image/png": "[encoded data removed]",
      "text/plain": [
       "<Figure size 432x288 with 1 Axes>"
      ]
     },
     "metadata": {
      "needs_background": "light"
     },
     "output_type": "display_data"
    }
   ],
   "source": [
    "import matplotlib.pyplot as plt\n",
    "import seaborn as sns\n",
    "sns.histplot(data=df['Salary'], kde=True, binwidth=10000)\n",
    "plt.xlabel('Salary')\n",
    "plt.ylabel('Count')\n",
    "plt.title('Distribution of Salary before outliers removal')\n",
    "plt.show()"
   ]
  },
  {
   "attachments": {},
   "cell_type": "markdown",
   "metadata": {},
   "source": [
    "1-Expectation :\n",
    "I guess the mean of the annaual salary of an IT engineer in Germany is around 50-60k in euors as Google says so.\n",
    "\n",
    "2-After collecting:\n",
    "The data says that the mean of salaries is 4487k, but median is 70k \n",
    "\n",
    "3-Comparing Data and expectations:\n",
    "the median is not much far from the expected mean, but the mean is much more larger than the expected.\n",
    "As we know it, mean is sensitive to outliers .Let's remove outliers and double-check."
   ]
  },
  {
   "cell_type": "code",
   "execution_count": 264,
   "metadata": {},
   "outputs": [
    {
     "data": {
      "image/png": "[encoded data removed]",
      "text/plain": [
       "<Figure size 432x288 with 1 Axes>"
      ]
     },
     "metadata": {
      "needs_background": "light"
     },
     "output_type": "display_data"
    }
   ],
   "source": [
    "# plot boxplot\n",
    "plt.boxplot(contract_salary['Salary'])\n",
    "plt.xlabel('Salary')\n",
    "plt.title('Boxplot of Salaries')\n",
    "plt.show()"
   ]
  },
  {
   "attachments": {},
   "cell_type": "markdown",
   "metadata": {},
   "source": [
    "There are outliers "
   ]
  },
  {
   "cell_type": "code",
   "execution_count": 265,
   "metadata": {},
   "outputs": [
    {
     "name": "stdout",
     "output_type": "stream",
     "text": [
      "First quad of Salaries= 60000.0\n",
      "Third quad of Salaries= 80000.0\n",
      "IQR of Salaries= 20000.0\n",
      "#of valid Salaries with outliers: 2243\n",
      "#of valid Salaries WITHOUT outliers: 2156\n"
     ]
    }
   ],
   "source": [
    "# calculate the first and third quartiles of column Salary\n",
    "# contract_salary = contract_salary[contract_salary['Salary'].astype('float64').dropna().astype('int64')]\n",
    "\n",
    "salary_df = contract_salary['Salary']\n",
    "q1 = salary_df.quantile(0.25)\n",
    "q3 = salary_df.quantile(0.75)\n",
    "iqr = q3 - q1\n",
    "print('First quad of Salaries=',q1)\n",
    "print('Third quad of Salaries=',q3)\n",
    "print('IQR of Salaries=',iqr)\n",
    "# remove rows where the value is less than q1 - 1.5*iqr or greater than q3 + 1.5*iqr\n",
    "contract_salary = contract_salary[(contract_salary['Salary'] >= (q1 - 2 * iqr)) & (contract_salary['Salary'] <= (q3 +2 * iqr))]\n",
    "# # # display the dataframe without outliers\n",
    "print('#of valid Salaries with outliers:',len(salary_df))\n",
    "print('#of valid Salaries WITHOUT outliers:',len(contract_salary))"
   ]
  },
  {
   "attachments": {},
   "cell_type": "markdown",
   "metadata": {},
   "source": [
    "There are around 160 outlier value that affects the analysis, if we use the range of non-outliers as q1-2 * iqr and q3+ 2* iqr, it results in less outliers (80 instead of 160) as our data isn't huge so we need to keep as much useful data as possible .\n",
    "I'd prefer to remove this range them to deal with realistic values."
   ]
  },
  {
   "cell_type": "code",
   "execution_count": 266,
   "metadata": {},
   "outputs": [
    {
     "name": "stdout",
     "output_type": "stream",
     "text": [
      "Mean salary:  69627.07421150278\n",
      "Median salary:  69000.0\n",
      "Standard deviation of salary:  17888.92420162467\n",
      "Max salary:  120000\n",
      "Min salary:  20000\n"
     ]
    }
   ],
   "source": [
    "mean_salary = contract_salary['Salary'].mean()\n",
    "median_salary = contract_salary['Salary'].median()\n",
    "std_salary = contract_salary['Salary'].std()\n",
    "max_salary = contract_salary['Salary'].max()\n",
    "min_salary = contract_salary['Salary'].min()\n",
    "\n",
    "# display the computed statistics\n",
    "print('Mean salary: ',mean_salary)\n",
    "print('Median salary: ', median_salary)\n",
    "print('Standard deviation of salary: ', std_salary)\n",
    "print('Max salary: ', max_salary)\n",
    "print('Min salary: ', min_salary)"
   ]
  },
  {
   "attachments": {},
   "cell_type": "markdown",
   "metadata": {},
   "source": [
    "Now Expectation meets the reality,\n",
    "As expected the outliers affected the mean heavly, so after removing them we can see that the mean and median are close to each other and to what we expected ."
   ]
  },
  {
   "cell_type": "code",
   "execution_count": 267,
   "metadata": {},
   "outputs": [
    {
     "data": {
      "image/png": "[encoded data removed]",
      "text/plain": [
       "<Figure size 432x288 with 1 Axes>"
      ]
     },
     "metadata": {
      "needs_background": "light"
     },
     "output_type": "display_data"
    }
   ],
   "source": [
    "import matplotlib.pyplot as plt\n",
    "import seaborn as sns\n",
    "sns.histplot(data=contract_salary['Salary'], kde=True, binwidth=10000)\n",
    "plt.xlabel('Salary')\n",
    "plt.ylabel('Count')\n",
    "plt.title('Distribution of Salary after outliers removal')\n",
    "plt.show()"
   ]
  },
  {
   "cell_type": "code",
   "execution_count": 268,
   "metadata": {},
   "outputs": [
    {
     "data": {
      "image/png": "[encoded data removed]",
      "text/plain": [
       "<Figure size 432x288 with 1 Axes>"
      ]
     },
     "metadata": {
      "needs_background": "light"
     },
     "output_type": "display_data"
    }
   ],
   "source": [
    "# plot boxplot\n",
    "plt.boxplot(contract_salary['Salary'])\n",
    "plt.xlabel('Salary')\n",
    "plt.title('Boxplot of Salaries')\n",
    "plt.show()"
   ]
  },
  {
   "attachments": {},
   "cell_type": "markdown",
   "metadata": {},
   "source": [
    "Contract duration"
   ]
  },
  {
   "attachments": {},
   "cell_type": "markdown",
   "metadata": {},
   "source": [
    "To know the different categories of duration:"
   ]
  },
  {
   "cell_type": "code",
   "execution_count": 269,
   "metadata": {},
   "outputs": [
    {
     "name": "stdout",
     "output_type": "stream",
     "text": [
      "There is 9\n",
      "The categories are: ['unlimited contract' 'temporary contract' 'nan' 'unlimited' '6 months'\n",
      " 'more than 1 year' '1 year' 'less than 3 months' '3 months']\n"
     ]
    }
   ],
   "source": [
    "unique_duration = contract_salary['Contract_Duration'].unique()\n",
    "print(\"There is\",len(unique_duration))\n",
    "print(\"The categories are:\",unique_duration)"
   ]
  },
  {
   "attachments": {},
   "cell_type": "markdown",
   "metadata": {},
   "source": [
    "There are missing (nan) values that need to be processed"
   ]
  },
  {
   "cell_type": "code",
   "execution_count": 270,
   "metadata": {},
   "outputs": [
    {
     "name": "stdout",
     "output_type": "stream",
     "text": [
      "There are  45 missing values in duration\n"
     ]
    }
   ],
   "source": [
    "null = len(contract_salary[(contract_salary['Contract_Duration'] == 'nan')])\n",
    "print(\"There are \",null,\"missing values in duration\")"
   ]
  },
  {
   "cell_type": "code",
   "execution_count": 271,
   "metadata": {},
   "outputs": [],
   "source": [
    "def clean_contract(df):\n",
    "    cleaned_df = pd.DataFrame(columns=['Contract_Duration', 'Salary'])\n",
    "    for _, row in df.iterrows():\n",
    "        if row['Contract_Duration'] is not None :\n",
    "            # split string using , / &\n",
    "            values = re.split(\"[,&/]\", row['Contract_Duration'])\n",
    "            for value in values:\n",
    "                # remove leading and trailing spaces\n",
    "                # change to lower case\n",
    "                processed_value = value.strip().lower().replace(\".\", \"\")\n",
    "                if (\"unlimited\" in processed_value):\n",
    "                    cleaned_df.loc[len(cleaned_df.index)] = ['unlimited', row['Salary']]\n",
    "                else:\n",
    "                    cleaned_df.loc[len(cleaned_df.index)] = [processed_value, row['Salary']]\n",
    "    return cleaned_df"
   ]
  },
  {
   "attachments": {},
   "cell_type": "markdown",
   "metadata": {},
   "source": [
    "For the missing values, i think it's proper to remove these rows as its a personal choice that we can't impute."
   ]
  },
  {
   "cell_type": "code",
   "execution_count": 272,
   "metadata": {},
   "outputs": [],
   "source": [
    "contract_salary = contract_salary[(contract_salary['Contract_Duration'] != 'nan')]\n"
   ]
  },
  {
   "attachments": {},
   "cell_type": "markdown",
   "metadata": {},
   "source": [
    "unify the categories as (unlimited) and (unlimited contract )are the same "
   ]
  },
  {
   "cell_type": "code",
   "execution_count": 273,
   "metadata": {},
   "outputs": [
    {
     "name": "stdout",
     "output_type": "stream",
     "text": [
      "There is 7\n",
      "The categories are: ['unlimited' 'temporary contract' '6 months' 'more than 1 year' '1 year'\n",
      " 'less than 3 months' '3 months']\n"
     ]
    }
   ],
   "source": [
    "contract_salary= clean_contract(contract_salary)\n",
    "unique_duration = contract_salary['Contract_Duration'].unique()\n",
    "print(\"There is\",len(unique_duration))\n",
    "print(\"The categories are:\",unique_duration)"
   ]
  },
  {
   "cell_type": "code",
   "execution_count": 274,
   "metadata": {},
   "outputs": [
    {
     "name": "stdout",
     "output_type": "stream",
     "text": [
      "Mode duration:  0    unlimited\n",
      "Name: Contract_Duration, dtype: object\n"
     ]
    }
   ],
   "source": [
    "mode_duration = contract_salary['Contract_Duration'].mode()\n",
    "# display the computed statistics\n",
    "print('Mode duration: ',mode_duration)"
   ]
  },
  {
   "cell_type": "code",
   "execution_count": 276,
   "metadata": {},
   "outputs": [
    {
     "data": {
      "image/png": "[encoded data removed]",
      "text/plain": [
       "<Figure size 432x288 with 1 Axes>"
      ]
     },
     "metadata": {
      "needs_background": "light"
     },
     "output_type": "display_data"
    },
    {
     "name": "stdout",
     "output_type": "stream",
     "text": [
      "unlimited             1952\n",
      "more than 1 year        58\n",
      "temporary contract      54\n",
      "1 year                  38\n",
      "6 months                 6\n",
      "3 months                 2\n",
      "less than 3 months       1\n",
      "Name: Contract_Duration, dtype: int64\n"
     ]
    }
   ],
   "source": [
    "# count the frequency of each category\n",
    "duration_counts = contract_salary['Contract_Duration'].value_counts()\n",
    "# plot bar chart\n",
    "duration_counts.plot(kind='bar')\n",
    "plt.xlabel('Contract Duration')\n",
    "plt.ylabel('Frequency')\n",
    "plt.title('Distribution of Contract Durations')\n",
    "plt.show()\n",
    "category_counts = contract_salary['Contract_Duration'].value_counts(normalize=False)\n",
    "\n",
    "print(category_counts)"
   ]
  },
  {
   "attachments": {},
   "cell_type": "markdown",
   "metadata": {},
   "source": [
    "1-Expectation :\n",
    "After searching i found that,The most common contract duration in Germany is unlimited.\n",
    "\n",
    "2-After collecting:\n",
    "The data says that most frequent category is the unlimited . \n",
    "\n",
    "3-Comparing Data and expectations:\n",
    "We found what we are expecting."
   ]
  },
  {
   "cell_type": "code",
   "execution_count": 254,
   "metadata": {},
   "outputs": [
    {
     "data": {
      "image/png": "[encoded data removed]",
      "text/plain": [
       "<Figure size 720x432 with 1 Axes>"
      ]
     },
     "metadata": {
      "needs_background": "light"
     },
     "output_type": "display_data"
    }
   ],
   "source": [
    "# plot boxplots by contract category\n",
    "contract_salary.boxplot(column='Salary', by='Contract_Duration', figsize=(10,6))\n",
    "plt.xlabel('Contract Category')\n",
    "plt.ylabel('Salary')\n",
    "plt.title('Boxplot of Salaries by Contract Category')\n",
    "plt.show()"
   ]
  },
  {
   "cell_type": "code",
   "execution_count": 277,
   "metadata": {},
   "outputs": [
    {
     "name": "stdout",
     "output_type": "stream",
     "text": [
      "Contract_Duration\n",
      "1 year                64578.947368\n",
      "3 months              87000.000000\n",
      "6 months              78833.333333\n",
      "less than 3 months    20000.000000\n",
      "more than 1 year      67289.655172\n",
      "temporary contract    58687.407407\n",
      "unlimited             69835.676742\n",
      "Name: Salary, dtype: float64\n"
     ]
    }
   ],
   "source": [
    "# calculate mean salary for each contract category\n",
    "category_means = contract_salary.groupby('Contract_Duration')['Salary'].mean()\n",
    "\n",
    "print(category_means)"
   ]
  },
  {
   "attachments": {},
   "cell_type": "markdown",
   "metadata": {},
   "source": [
    "1-Expectation :\n",
    "I think there is no relationship between salary and the contract duration , as salary there is nothing for company/employee to prefer one contract to another.\n",
    "\n",
    "2-After collecting:\n",
    "The data says that most frequent category is the unlimited . \n",
    "\n",
    "3-Comparing Data and expectations:\n",
    "We found what we are expecting."
   ]
  },
  {
   "cell_type": "code",
   "execution_count": null,
   "metadata": {},
   "outputs": [],
   "source": []
  }
 ],
 "metadata": {
  "kernelspec": {
   "display_name": "base",
   "language": "python",
   "name": "python3"
  },
  "language_info": {
   "codemirror_mode": {
    "name": "ipython",
    "version": 3
   },
   "file_extension": ".py",
   "mimetype": "text/x-python",
   "name": "python",
   "nbconvert_exporter": "python",
   "pygments_lexer": "ipython3",
   "version": "3.9.12"
  },
  "orig_nbformat": 4
 },
 "nbformat": 4,
 "nbformat_minor": 2
}
