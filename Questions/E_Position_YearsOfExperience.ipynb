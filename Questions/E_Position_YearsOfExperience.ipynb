{
 "cells": [
  {
   "cell_type": "code",
   "execution_count": 1,
   "metadata": {},
   "outputs": [
    {
     "name": "stderr",
     "output_type": "stream",
     "text": [
      "c:\\Users\\marye\\anaconda3\\lib\\site-packages\\fuzzywuzzy\\fuzz.py:11: UserWarning: Using slow pure-python SequenceMatcher. Install python-Levenshtein to remove this warning\n",
      "  warnings.warn('Using slow pure-python SequenceMatcher. Install python-Levenshtein to remove this warning')\n"
     ]
    }
   ],
   "source": [
    "import pandas as pd\n",
    "# !pip install fuzzywuzzy\n",
    "from E_Salary_Cities import read,rename_columns,merge,clean_positions\n",
    "from E_Position_YearsOfExperience import clean_position,clean_senior_col,clean_years\n",
    "import re\n",
    "import matplotlib.pyplot as plt"
   ]
  },
  {
   "attachments": {},
   "cell_type": "markdown",
   "metadata": {},
   "source": [
    "How the position (backend/ Machine learning..etc) affects the required years of experience needed in order to be an official senior?"
   ]
  },
  {
   "attachments": {},
   "cell_type": "markdown",
   "metadata": {},
   "source": [
    "We need to deal with columns:           \n",
    "1-Position              \n",
    "2-Years of Experience           \n",
    "3-Seniority level           "
   ]
  },
  {
   "cell_type": "code",
   "execution_count": 2,
   "metadata": {},
   "outputs": [],
   "source": [
    "POSITION = 'Position'\n",
    "YEARS = 'Years of experience'\n",
    "SENIORITY = 'Seniority level'"
   ]
  },
  {
   "cell_type": "code",
   "execution_count": 3,
   "metadata": {},
   "outputs": [
    {
     "name": "stdout",
     "output_type": "stream",
     "text": [
      "{'Company size', 'Years of experience', 'Position', 'City', 'Seniority level', 'Salary', 'Age', 'Company type', 'Gender', 'Main language at work'}\n",
      "<class 'pandas.core.frame.DataFrame'>\n",
      "RangeIndex: 3009 entries, 0 to 3008\n",
      "Data columns (total 10 columns):\n",
      " #   Column                 Non-Null Count  Dtype  \n",
      "---  ------                 --------------  -----  \n",
      " 0   Company size           2962 non-null   object \n",
      " 1   Years of experience    2960 non-null   object \n",
      " 2   Position               2974 non-null   object \n",
      " 3   City                   2980 non-null   object \n",
      " 4   Seniority level        2960 non-null   object \n",
      " 5   Salary                 2993 non-null   float64\n",
      " 6   Age                    2780 non-null   float64\n",
      " 7   Company type           2918 non-null   object \n",
      " 8   Gender                 2985 non-null   object \n",
      " 9   Main language at work  2973 non-null   object \n",
      "dtypes: float64(2), object(8)\n",
      "memory usage: 235.2+ KB\n"
     ]
    },
    {
     "name": "stderr",
     "output_type": "stream",
     "text": [
      "d:\\Study\\4B\\Data science\\github\\Data-Science-Project\\Questions\\E_Salary_Cities.py:41: FutureWarning: Passing a set as an indexer is deprecated and will raise in a future version. Use a list instead.\n",
      "  return pd.concat(data_frames, ignore_index=True)[common_columns]\n"
     ]
    }
   ],
   "source": [
    "df2020,df2019,df2018 = read()\n",
    "rename_columns(df2020,df2019,df2018)\n",
    "common_cols = set(df2020.columns).intersection(df2019.columns).intersection(df2018.columns)\n",
    "print(common_cols)\n",
    "df = merge([df2018,df2019,df2020],common_cols)\n",
    "df.info()"
   ]
  },
  {
   "cell_type": "code",
   "execution_count": 5,
   "metadata": {},
   "outputs": [
    {
     "name": "stdout",
     "output_type": "stream",
     "text": [
      "<class 'pandas.core.frame.DataFrame'>\n",
      "Int64Index: 2918 entries, 0 to 3008\n",
      "Data columns (total 3 columns):\n",
      " #   Column               Non-Null Count  Dtype \n",
      "---  ------               --------------  ----- \n",
      " 0   Position             2918 non-null   object\n",
      " 1   Seniority level      2918 non-null   object\n",
      " 2   Years of experience  2918 non-null   object\n",
      "dtypes: object(3)\n",
      "memory usage: 91.2+ KB\n"
     ]
    }
   ],
   "source": [
    "df = df[[POSITION,SENIORITY,YEARS]]\n",
    "df = df.dropna()                    #There are missings that need to be imputed :(\n",
    "df.info()"
   ]
  },
  {
   "cell_type": "code",
   "execution_count": 6,
   "metadata": {},
   "outputs": [
    {
     "name": "stdout",
     "output_type": "stream",
     "text": [
      "511\n"
     ]
    }
   ],
   "source": [
    "print(df[POSITION].nunique())"
   ]
  },
  {
   "attachments": {},
   "cell_type": "markdown",
   "metadata": {},
   "source": [
    "The number of uniqe positions is huge, it needs cleaning.                       \n",
    "Let's unify similar positions to the same category"
   ]
  },
  {
   "cell_type": "code",
   "execution_count": 7,
   "metadata": {},
   "outputs": [
    {
     "name": "stdout",
     "output_type": "stream",
     "text": [
      "15\n",
      "<class 'pandas.core.frame.DataFrame'>\n",
      "Int64Index: 2918 entries, 0 to 3008\n",
      "Data columns (total 3 columns):\n",
      " #   Column               Non-Null Count  Dtype \n",
      "---  ------               --------------  ----- \n",
      " 0   Position             2918 non-null   object\n",
      " 1   Seniority level      2918 non-null   object\n",
      " 2   Years of experience  2918 non-null   object\n",
      "dtypes: object(3)\n",
      "memory usage: 91.2+ KB\n"
     ]
    }
   ],
   "source": [
    "df = clean_positions(df)\n",
    "print(df[POSITION].nunique())\n",
    "df.info()"
   ]
  },
  {
   "cell_type": "code",
   "execution_count": 8,
   "metadata": {},
   "outputs": [
    {
     "name": "stdout",
     "output_type": "stream",
     "text": [
      "['QA Engineer' 'Backend Developer' 'Software Engineer'\n",
      " 'Frontend Developer' 'Designer (UI/UX)' 'Product Manager'\n",
      " 'Mobile Developer' 'Data Scientist' 'ML Engineer' 'DevOps'\n",
      " 'Security Engineer' 'Fullstack Developer' 'Other' 'Researcher'\n",
      " 'Data Engineer']\n"
     ]
    }
   ],
   "source": [
    "print(df[POSITION].unique())"
   ]
  },
  {
   "cell_type": "code",
   "execution_count": 9,
   "metadata": {},
   "outputs": [
    {
     "data": {
      "image/png": "[encoded data removed]",
      "text/plain": [
       "<Figure size 432x288 with 1 Axes>"
      ]
     },
     "metadata": {
      "needs_background": "light"
     },
     "output_type": "display_data"
    }
   ],
   "source": [
    "# count the frequency of each category\n",
    "pos_counts = df[POSITION].value_counts()\n",
    "# plot bar chart\n",
    "pos_counts.plot(kind='bar')\n",
    "plt.xlabel('Position')\n",
    "plt.ylabel('Frequency')\n",
    "plt.title('Distribution of Position')\n",
    "plt.show()"
   ]
  },
  {
   "attachments": {},
   "cell_type": "markdown",
   "metadata": {},
   "source": [
    "Years of Experience"
   ]
  },
  {
   "cell_type": "code",
   "execution_count": 12,
   "metadata": {},
   "outputs": [
    {
     "name": "stdout",
     "output_type": "stream",
     "text": [
      "[nan '5' '7' '12' '4' '17' '6' '8' '15' '2' '25' '14' '11' '18' '13' '30'\n",
      " '10' '3' '40' '26' '9' '19' '20' '5.5' '22' '16' '0.8' '1' '1.5' '6.5'\n",
      " '21' '7.5' '2.5' '28' '29' '23' '24' '0' '4.5' '27' '31' '3.5' '0.5']\n"
     ]
    }
   ],
   "source": [
    "df = clean_years(df)\n",
    "print(df[YEARS].unique())"
   ]
  },
  {
   "cell_type": "code",
   "execution_count": null,
   "metadata": {},
   "outputs": [],
   "source": [
    "\n",
    "def clean_years(df):\n",
    "    df[YEARS]=df[YEARS].str.lower()\n",
    "    df[YEARS]=df[YEARS]\\\n",
    "    .replace('1,5','1.5')\\\n",
    "    .replace('1 (as qa engineer) / 11 in total','11')\\\n",
    "    .replace('2,5','2.5')\\\n",
    "    .replace('15, thereof 8 as cto','15')\\\n",
    "    .replace('6 (not as a data scientist, but as a lab scientist)','6')\\\n",
    "    .replace('less than year','0.5')\\\n",
    "    .replace('383','5')\n",
    "\n",
    "    return df\n"
   ]
  },
  {
   "cell_type": "code",
   "execution_count": 114,
   "metadata": {},
   "outputs": [],
   "source": [
    "df = clean_years(df)"
   ]
  },
  {
   "cell_type": "code",
   "execution_count": 115,
   "metadata": {},
   "outputs": [
    {
     "name": "stdout",
     "output_type": "stream",
     "text": [
      "There are 42 uniqe position\n",
      "The unique years are:  ['5' '7' '12' '4' '17' '6' '8' '15' '2' '25' '14' '11' '18' '13' '30' '10'\n",
      " '3' '40' '26' '23' '9' '19' '20' '5.5' '22' '16' '0.8' '1' '1.5' '6.5'\n",
      " '21' '7.5' '2.5' '28' '29' '24' '0' '4.5' '27' '31' '3.5' '0.5']\n"
     ]
    }
   ],
   "source": [
    "df = df[~df[YEARS].isin(nulls)]\n",
    "print(\"There are\",len(df[YEARS].unique()),\"uniqe position\")\n",
    "print(\"The unique years are: \",df[YEARS].unique())"
   ]
  },
  {
   "cell_type": "code",
   "execution_count": 116,
   "metadata": {},
   "outputs": [
    {
     "name": "stdout",
     "output_type": "stream",
     "text": [
      "0     5.0\n",
      "1     7.0\n",
      "2    12.0\n",
      "3     4.0\n",
      "4    17.0\n",
      "Name: Experience_Years, dtype: float64\n"
     ]
    }
   ],
   "source": [
    "df[YEARS] = df[YEARS].astype('float64')\n",
    "print(df[YEARS].head(5))"
   ]
  },
  {
   "cell_type": "code",
   "execution_count": 117,
   "metadata": {},
   "outputs": [
    {
     "name": "stdout",
     "output_type": "stream",
     "text": [
      "Mean years:  8.648134831460673\n",
      "Median years:  8.0\n",
      "Standard deviation of years:  5.171138376036199\n",
      "Max years:  40.0\n",
      "Min years:  0.0\n"
     ]
    }
   ],
   "source": [
    "mean_years = df[YEARS].mean()\n",
    "median_years = df[YEARS].median()\n",
    "std_years = df[YEARS].std()\n",
    "max_years = df[YEARS].max()\n",
    "min_years = df[YEARS].min()\n",
    "\n",
    "# display the computed statistics\n",
    "print('Mean years: ',mean_years)\n",
    "print('Median years: ', median_years)\n",
    "print('Standard deviation of years: ', std_years)\n",
    "print('Max years: ', max_years)\n",
    "print('Min years: ', min_years)"
   ]
  },
  {
   "cell_type": "code",
   "execution_count": 118,
   "metadata": {},
   "outputs": [
    {
     "data": {
      "image/png": "[encoded data removed]",
      "text/plain": [
       "<Figure size 432x288 with 1 Axes>"
      ]
     },
     "metadata": {
      "needs_background": "light"
     },
     "output_type": "display_data"
    }
   ],
   "source": [
    "import matplotlib.pyplot as plt\n",
    "import seaborn as sns\n",
    "sns.histplot(data=df[YEARS], kde=True, binwidth=5)\n",
    "plt.xlabel('Years of Experience')\n",
    "plt.ylabel('Count')\n",
    "plt.title('Distribution of Years of Experience')\n",
    "plt.show()"
   ]
  },
  {
   "attachments": {},
   "cell_type": "markdown",
   "metadata": {},
   "source": [
    "1-Expectation :\n",
    "I thins the mean will be around 10-15 years of experience, is the IT field has started growing in the last 15 years.\n",
    "\n",
    "2-After collecting:\n",
    "It's clear that the data mean of years of experience is between 5-10 years. \n",
    "\n",
    "3-Comparing Data and expectations:\n",
    "not exact but close to what is expected. ✔"
   ]
  },
  {
   "cell_type": "code",
   "execution_count": 119,
   "metadata": {},
   "outputs": [
    {
     "data": {
      "image/png": "[encoded data removed]",
      "text/plain": [
       "<Figure size 432x288 with 1 Axes>"
      ]
     },
     "metadata": {
      "needs_background": "light"
     },
     "output_type": "display_data"
    }
   ],
   "source": [
    "import numpy as np\n",
    "import matplotlib.pyplot as plt\n",
    "\n",
    "sns.boxplot(x=POSITION, y=YEARS, data=df)\n",
    "plt.xticks(rotation=90)\n",
    "plt.show()"
   ]
  },
  {
   "cell_type": "code",
   "execution_count": 120,
   "metadata": {},
   "outputs": [
    {
     "name": "stdout",
     "output_type": "stream",
     "text": [
      "Mean years for Software Engineer is : 10.067970204841712\n",
      "Mean years for Backend Developer is : 9.055294117647058\n",
      "Mean years for Frontend Developer is : 6.788461538461538\n",
      "Mean years for DevOps is : 10.157894736842104\n",
      "Mean years for Data Scientist is : 5.724458204334366\n",
      "Mean years for designer (ui/ux) is : 8.5625\n",
      "Mean years for Product Manager is : 10.025974025974026\n",
      "Mean years for Mobile Developer is : 8.365\n",
      "Mean years for Other is : 9.516071428571427\n",
      "Mean years for Software Testing is : 8.25\n",
      "Mean years for ML Engineer is : 5.710666666666667\n",
      "Mean years for system administrator is : 12.5\n",
      "Mean years for CTO is : 14.083333333333334\n",
      "Mean years for IT is : 9.461538461538462\n",
      "Mean years for researcher is : 8.76923076923077\n",
      "Mean years for embedded developer is : 9.428571428571429\n",
      "Mean years for qa is : 7.767857142857143\n"
     ]
    }
   ],
   "source": [
    "for position in df[POSITION].unique():\n",
    "    mean_years = df[df[POSITION] == position][YEARS].mean()\n",
    "    median_years = df[df[POSITION] == position][YEARS].median()\n",
    "    std_years = df[df[POSITION] == position][YEARS].std()\n",
    "    # display the computed statistics\n",
    "    print('Mean years for',position,'is :',mean_years)\n"
   ]
  },
  {
   "attachments": {},
   "cell_type": "markdown",
   "metadata": {},
   "source": [
    "Now we will filter on Seniority level, to focus on the needed years of experience for the seniors only"
   ]
  },
  {
   "cell_type": "code",
   "execution_count": 121,
   "metadata": {},
   "outputs": [
    {
     "name": "stdout",
     "output_type": "stream",
     "text": [
      "['senior' 'lead' 'junior' 'middle' 'head' 'nan' 'no level' 'vp' 'manager'\n",
      " 'work center manager' 'cto' 'no level ' 'director' 'key'\n",
      " 'c-level executive manager' 'principal' 'intern' 'student'\n",
      " 'no idea, there are no ranges in the firm ' 'c-level' 'working student'\n",
      " 'entry level' 'self employed']\n"
     ]
    }
   ],
   "source": [
    "print(df[SENIORITY].unique()) "
   ]
  },
  {
   "attachments": {},
   "cell_type": "markdown",
   "metadata": {},
   "source": [
    "Needs cleaning to be 4 levels only:     \n",
    "Senior           \n",
    "Mid level           \n",
    "Junior          \n",
    "Student"
   ]
  },
  {
   "cell_type": "code",
   "execution_count": 122,
   "metadata": {},
   "outputs": [],
   "source": [
    "def clean_senior_col(df):\n",
    "    meaninigless_values = ['nan','no idea, there are no ranges in the firm','no level','no level ']\n",
    "    df = df[~df['Seniority'].isin(meaninigless_values)]\n",
    "    for i, row in df.iterrows():\n",
    "            if row['Seniority'] in ['principal','cto','manager','director','head','lead','vp','work center manager','c-level executive manager','c-level','key']:\n",
    "                df.at[i,'Seniority'] = 'senior'\n",
    "            elif  row['Seniority'] in ['junior','intern','student','working student','entry level']:\n",
    "                df.at[i,'Seniority'] = 'junior'\n",
    "    seniority_counts = df['Seniority'].value_counts()\n",
    "    seniority_counts = seniority_counts[seniority_counts >= 2]\n",
    "    df = df[df['Seniority'].isin(seniority_counts.index)]\n",
    "    return df"
   ]
  },
  {
   "cell_type": "code",
   "execution_count": 123,
   "metadata": {},
   "outputs": [
    {
     "name": "stdout",
     "output_type": "stream",
     "text": [
      "2198\n"
     ]
    }
   ],
   "source": [
    "df = clean_senior_col(df)\n",
    "print(len(df[SENIORITY]))"
   ]
  },
  {
   "cell_type": "code",
   "execution_count": 124,
   "metadata": {},
   "outputs": [
    {
     "data": {
      "image/png": "[encoded data removed]",
      "text/plain": [
       "<Figure size 432x288 with 1 Axes>"
      ]
     },
     "metadata": {
      "needs_background": "light"
     },
     "output_type": "display_data"
    }
   ],
   "source": [
    "sns.histplot(data=df[df['Seniority'] == 'senior'][YEARS], kde=True, binwidth=5)\n",
    "plt.xlabel('Years of Experience')\n",
    "plt.ylabel('Count')\n",
    "plt.title('Distribution of Years of Experience')\n",
    "plt.show()"
   ]
  },
  {
   "attachments": {},
   "cell_type": "markdown",
   "metadata": {},
   "source": [
    "The histogram shows that to be a senior, regardless of field/position most of them it needs at least 10 years"
   ]
  },
  {
   "attachments": {},
   "cell_type": "markdown",
   "metadata": {},
   "source": [
    "Let's explore more for the needed years per position"
   ]
  },
  {
   "cell_type": "code",
   "execution_count": 125,
   "metadata": {},
   "outputs": [
    {
     "data": {
      "image/png": "[encoded data removed]",
      "text/plain": [
       "<Figure size 432x288 with 1 Axes>"
      ]
     },
     "metadata": {
      "needs_background": "light"
     },
     "output_type": "display_data"
    }
   ],
   "source": [
    "import numpy as np\n",
    "import matplotlib.pyplot as plt\n",
    "\n",
    "sns.boxplot(x=POSITION, y=YEARS, data=df[df[SENIORITY] == 'senior'])\n",
    "plt.xticks(rotation=90)\n",
    "plt.show()"
   ]
  },
  {
   "attachments": {},
   "cell_type": "markdown",
   "metadata": {},
   "source": [
    "We can see that there is disparity in the needed years fo expereince to become a senior in each position,                                                                                               \n",
    "                                                                            \n",
    "For example, the average needed years for the QA is around 5-6 years,Unlike for the researcher position\n",
    "where you need at least 8-9 years and on average it around 12 years! That's interesting.   \n",
    "                                                                                                         \n",
    "We can categorize the positions into two types .                    \n",
    "1- 10-15 Needed years which includes :[ SW ,BE, DevOps, Product Manager, Others, CTO,IT,Researcher,Embedded ]                   \n",
    "2- 5-10 Needed years which includes : [FE, UI/UX designer, Mobile Development, Data Scientist, Software Testing, ML, QA]                \n"
   ]
  },
  {
   "cell_type": "code",
   "execution_count": 127,
   "metadata": {},
   "outputs": [],
   "source": [
    "import statsmodels.api as sm\n",
    "from statsmodels.formula.api import ols\n",
    "# define null and alternative hypotheses\n",
    "# we assume alpha = 0.05\n",
    "null_hypothesis = 'There is no significant difference in the means of years of experience across positions'\n",
    "alternative_hypothesis = 'There is a significant difference in the means of years of experience across positions'"
   ]
  },
  {
   "cell_type": "code",
   "execution_count": 128,
   "metadata": {},
   "outputs": [
    {
     "name": "stdout",
     "output_type": "stream",
     "text": [
      "                sum_sq      df          F        PR(>F)\n",
      "Position   3317.342442    15.0  10.367815  6.107754e-24\n",
      "Residual  29095.522775  1364.0        NaN           NaN\n",
      "Reject null hypothesis. There is a significant difference in the means of years of experience across positions\n"
     ]
    }
   ],
   "source": [
    "# perform one-way ANOVA test\n",
    "model = ols('Experience_Years ~ Position', data=df[df[SENIORITY] == 'senior']).fit()\n",
    "anova_table = sm.stats.anova_lm(model, typ=2)\n",
    "# print ANOVA table\n",
    "print(anova_table)\n",
    "\n",
    "# interpret p-value\n",
    "p_value = anova_table['PR(>F)'][0]\n",
    "if p_value < 0.05:\n",
    "    print('Reject null hypothesis. ' + alternative_hypothesis)\n",
    "else:\n",
    "    print('Cannot reject null hypothesis. ' + null_hypothesis)"
   ]
  }
 ],
 "metadata": {
  "kernelspec": {
   "display_name": "base",
   "language": "python",
   "name": "python3"
  },
  "language_info": {
   "codemirror_mode": {
    "name": "ipython",
    "version": 3
   },
   "file_extension": ".py",
   "mimetype": "text/x-python",
   "name": "python",
   "nbconvert_exporter": "python",
   "pygments_lexer": "ipython3",
   "version": "3.9.12"
  },
  "orig_nbformat": 4
 },
 "nbformat": 4,
 "nbformat_minor": 2
}
