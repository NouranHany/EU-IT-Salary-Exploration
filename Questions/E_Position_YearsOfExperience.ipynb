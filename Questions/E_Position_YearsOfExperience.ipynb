{
 "cells": [
  {
   "cell_type": "code",
   "execution_count": 54,
   "metadata": {},
   "outputs": [],
   "source": [
    "import pandas as pd\n",
    "# !pip install fuzzywuzzy\n",
    "from E_Salary_Cities import read,rename_columns,merge,clean_positions\n",
    "from E_Position_YearsOfExperience import clean_position,clean_senior_col,clean_years\n",
    "import re\n",
    "import matplotlib.pyplot as plt"
   ]
  },
  {
   "attachments": {},
   "cell_type": "markdown",
   "metadata": {},
   "source": [
    "# How the position (backend/ Machine learning..etc) affects the required years of experience needed in order to be an official senior?"
   ]
  },
  {
   "attachments": {},
   "cell_type": "markdown",
   "metadata": {},
   "source": [
    "#### We need to deal with columns:           \n",
    "1-Position              \n",
    "2-Years of Experience           \n",
    "3-Seniority level           "
   ]
  },
  {
   "cell_type": "code",
   "execution_count": 55,
   "metadata": {},
   "outputs": [],
   "source": [
    "POSITION = 'Position'\n",
    "YEARS = 'Years of experience'\n",
    "SENIORITY = 'Seniority level'"
   ]
  },
  {
   "cell_type": "code",
   "execution_count": 56,
   "metadata": {},
   "outputs": [
    {
     "name": "stdout",
     "output_type": "stream",
     "text": [
      "{'Position', 'Company type', 'Seniority level', 'Salary', 'Age', 'Gender', 'Years of experience', 'City', 'Company size', 'Main language at work'}\n",
      "<class 'pandas.core.frame.DataFrame'>\n",
      "RangeIndex: 3009 entries, 0 to 3008\n",
      "Data columns (total 10 columns):\n",
      " #   Column                 Non-Null Count  Dtype  \n",
      "---  ------                 --------------  -----  \n",
      " 0   Position               2974 non-null   object \n",
      " 1   Company type           2918 non-null   object \n",
      " 2   Seniority level        2960 non-null   object \n",
      " 3   Salary                 2993 non-null   float64\n",
      " 4   Age                    2780 non-null   float64\n",
      " 5   Gender                 2985 non-null   object \n",
      " 6   Years of experience    2960 non-null   object \n",
      " 7   City                   2980 non-null   object \n",
      " 8   Company size           2962 non-null   object \n",
      " 9   Main language at work  2973 non-null   object \n",
      "dtypes: float64(2), object(8)\n",
      "memory usage: 235.2+ KB\n"
     ]
    },
    {
     "name": "stderr",
     "output_type": "stream",
     "text": [
      "d:\\Study\\4B\\Data science\\github\\Data-Science-Project\\Questions\\E_Salary_Cities.py:43: FutureWarning: Passing a set as an indexer is deprecated and will raise in a future version. Use a list instead.\n",
      "  return pd.concat(data_frames, ignore_index=True)[common_columns]\n"
     ]
    }
   ],
   "source": [
    "df2020,df2019,df2018 = read()\n",
    "rename_columns(df2020,df2019,df2018)\n",
    "common_cols = set(df2020.columns).intersection(df2019.columns).intersection(df2018.columns)\n",
    "print(common_cols)\n",
    "df = merge([df2018,df2019,df2020],common_cols)\n",
    "df.info()"
   ]
  },
  {
   "cell_type": "code",
   "execution_count": 57,
   "metadata": {},
   "outputs": [
    {
     "name": "stdout",
     "output_type": "stream",
     "text": [
      "<class 'pandas.core.frame.DataFrame'>\n",
      "Int64Index: 2918 entries, 0 to 3008\n",
      "Data columns (total 3 columns):\n",
      " #   Column               Non-Null Count  Dtype \n",
      "---  ------               --------------  ----- \n",
      " 0   Position             2918 non-null   object\n",
      " 1   Seniority level      2918 non-null   object\n",
      " 2   Years of experience  2918 non-null   object\n",
      "dtypes: object(3)\n",
      "memory usage: 91.2+ KB\n"
     ]
    }
   ],
   "source": [
    "df = df[[POSITION,SENIORITY,YEARS]]\n",
    "df = df.dropna()                    #There are missings that need to be imputed :(\n",
    "df.info()"
   ]
  },
  {
   "attachments": {},
   "cell_type": "markdown",
   "metadata": {},
   "source": [
    "#### Exploring position column"
   ]
  },
  {
   "attachments": {},
   "cell_type": "markdown",
   "metadata": {},
   "source": [
    "# Expectaions :\n",
    "To have aronud 10-15 different position"
   ]
  },
  {
   "cell_type": "code",
   "execution_count": 58,
   "metadata": {},
   "outputs": [
    {
     "name": "stdout",
     "output_type": "stream",
     "text": [
      "511\n"
     ]
    }
   ],
   "source": [
    "print(df[POSITION].nunique())"
   ]
  },
  {
   "attachments": {},
   "cell_type": "markdown",
   "metadata": {},
   "source": [
    "#### Collected data\n",
    "we have 511 different position"
   ]
  },
  {
   "attachments": {},
   "cell_type": "markdown",
   "metadata": {},
   "source": [
    "#### Comparing Expectation with Collection:\n",
    "Not matching.The number of uniqe positions is huge, it needs cleaning.                       \n",
    "Let's unify similar positions to the same category"
   ]
  },
  {
   "cell_type": "code",
   "execution_count": 59,
   "metadata": {},
   "outputs": [
    {
     "name": "stdout",
     "output_type": "stream",
     "text": [
      "['Other' 'backend developer' 'software engineer' 'frontend developer'\n",
      " 'product manager' 'mobile developer' 'qa engineer' 'devops'\n",
      " 'fullstack developer' 'ai engineer' 'security engineer'\n",
      " 'designer (ui/ux)' 'researcher']\n",
      "<class 'pandas.core.frame.DataFrame'>\n",
      "Int64Index: 2918 entries, 0 to 3008\n",
      "Data columns (total 3 columns):\n",
      " #   Column               Non-Null Count  Dtype \n",
      "---  ------               --------------  ----- \n",
      " 0   Position             2918 non-null   object\n",
      " 1   Seniority level      2918 non-null   object\n",
      " 2   Years of experience  2918 non-null   object\n",
      "dtypes: object(3)\n",
      "memory usage: 155.7+ KB\n"
     ]
    }
   ],
   "source": [
    "df = clean_positions(df)\n",
    "print(df[POSITION].unique())\n",
    "df.info()"
   ]
  },
  {
   "attachments": {},
   "cell_type": "markdown",
   "metadata": {},
   "source": [
    "#### Now Expectations meets collected data"
   ]
  },
  {
   "cell_type": "code",
   "execution_count": 60,
   "metadata": {},
   "outputs": [
    {
     "name": "stdout",
     "output_type": "stream",
     "text": [
      "backend developer      607\n",
      "software engineer      543\n",
      "Other                  461\n",
      "ai engineer            446\n",
      "frontend developer     185\n",
      "qa engineer            165\n",
      "mobile developer       159\n",
      "devops                 147\n",
      "fullstack developer     95\n",
      "product manager         71\n",
      "designer (ui/ux)        20\n",
      "researcher              14\n",
      "security engineer        5\n",
      "Name: Position, dtype: int64\n"
     ]
    }
   ],
   "source": [
    "print(df[POSITION].value_counts())"
   ]
  },
  {
   "cell_type": "code",
   "execution_count": 61,
   "metadata": {},
   "outputs": [
    {
     "data": {
      "image/png": "[encoded data removed]",
      "text/plain": [
       "<Figure size 432x288 with 1 Axes>"
      ]
     },
     "metadata": {
      "needs_background": "light"
     },
     "output_type": "display_data"
    }
   ],
   "source": [
    "# count the frequency of each category\n",
    "pos_counts = df[POSITION].value_counts()\n",
    "# plot bar chart\n",
    "pos_counts.plot(kind='bar')\n",
    "plt.xlabel('Position')\n",
    "plt.ylabel('Frequency')\n",
    "plt.title('Distribution of Position')\n",
    "plt.show()"
   ]
  },
  {
   "attachments": {},
   "cell_type": "markdown",
   "metadata": {},
   "source": [
    "### Exploring Years of Experience column"
   ]
  },
  {
   "attachments": {},
   "cell_type": "markdown",
   "metadata": {},
   "source": [
    "#### Expectations:\n",
    "To have only numerical values with ranges from 0-40 at max."
   ]
  },
  {
   "cell_type": "code",
   "execution_count": 63,
   "metadata": {},
   "outputs": [
    {
     "name": "stdout",
     "output_type": "stream",
     "text": [
      "There are  80 unique value in Years of Experience column\n",
      "The unique values are [11.0 8.0 10.0 6.0 5.0 3.0 18.0 4.0 17.0 19.0 15.0 12.0 2.0 1.0 9.0 7.0\n",
      " 20.0 7.5 14.0 13.0 0.5 2.5 1.5 16.0 0.0 25.0 30.0 21.0 4.5 22 24 28 '5'\n",
      " '7' '12' '4' '17' '6' '8' '15' '2' '25' '14' '11' '18' '13' '30' '10' '3'\n",
      " '40' '26' '9' '19' '20' '5.5' '22' '16' '0.8' '1' '1.5' '6.5' '21' '7.5'\n",
      " '2.5' '28' '29' '23' '1,5' '24' '0' '4.5' '27'\n",
      " '1 (as QA Engineer) / 11 in total' '2,5' '15, thereof 8 as CTO' '31'\n",
      " '6 (not as a data scientist, but as a lab scientist)' '383' '3.5'\n",
      " 'less than year']\n"
     ]
    }
   ],
   "source": [
    "print(\"There are \",df[YEARS].nunique(),\"unique value in Years of Experience column\")\n",
    "print(\"The unique values are\",df[YEARS].unique())"
   ]
  },
  {
   "attachments": {},
   "cell_type": "markdown",
   "metadata": {},
   "source": [
    "#### Collection data :\n",
    "It shows that we have text in the years column ,out of range values (343) ,mis-written values(1,5 instead of 1.5)"
   ]
  },
  {
   "attachments": {},
   "cell_type": "markdown",
   "metadata": {},
   "source": [
    "#### Comparison:\n",
    "Not Matching. Cleaning is needed"
   ]
  },
  {
   "cell_type": "code",
   "execution_count": 64,
   "metadata": {},
   "outputs": [
    {
     "name": "stdout",
     "output_type": "stream",
     "text": [
      "[11.   8.  10.   6.   5.   3.  18.   4.  17.  19.  15.  12.   2.   1.\n",
      "  9.   7.  20.   7.5 14.  13.   0.5  2.5  1.5 16.   0.  25.  30.  21.\n",
      "  4.5 22.  24.  28.  40.  26.   5.5  0.8  6.5 29.  23.  27.  31.   3.5]\n"
     ]
    }
   ],
   "source": [
    "df = clean_years(df)\n",
    "print(df[YEARS].unique())"
   ]
  },
  {
   "attachments": {},
   "cell_type": "markdown",
   "metadata": {},
   "source": [
    "#### Now expectaions meets our results"
   ]
  },
  {
   "cell_type": "code",
   "execution_count": 65,
   "metadata": {},
   "outputs": [
    {
     "name": "stdout",
     "output_type": "stream",
     "text": [
      "0    11.0\n",
      "1     8.0\n",
      "2    10.0\n",
      "3     6.0\n",
      "4    10.0\n",
      "Name: Years of experience, dtype: float64\n"
     ]
    }
   ],
   "source": [
    "df[YEARS] = df[YEARS].astype('float64')\n",
    "print(df[YEARS].head(5))"
   ]
  },
  {
   "attachments": {},
   "cell_type": "markdown",
   "metadata": {},
   "source": [
    "#### Exploring range of available years of experience and visualizing it"
   ]
  },
  {
   "cell_type": "code",
   "execution_count": 66,
   "metadata": {},
   "outputs": [
    {
     "name": "stdout",
     "output_type": "stream",
     "text": [
      "Mean years:  8.613810829335161\n",
      "Median years:  8.0\n",
      "Standard deviation of years:  5.033383018279053\n",
      "Max years:  40.0\n",
      "Min years:  0.0\n"
     ]
    }
   ],
   "source": [
    "mean_years = df[YEARS].mean()\n",
    "median_years = df[YEARS].median()\n",
    "std_years = df[YEARS].std()\n",
    "max_years = df[YEARS].max()\n",
    "min_years = df[YEARS].min()\n",
    "\n",
    "# display the computed statistics\n",
    "print('Mean years: ',mean_years)\n",
    "print('Median years: ', median_years)\n",
    "print('Standard deviation of years: ', std_years)\n",
    "print('Max years: ', max_years)\n",
    "print('Min years: ', min_years)"
   ]
  },
  {
   "cell_type": "code",
   "execution_count": 67,
   "metadata": {},
   "outputs": [
    {
     "data": {
      "image/png": "[encoded data removed]",
      "text/plain": [
       "<Figure size 432x288 with 1 Axes>"
      ]
     },
     "metadata": {
      "needs_background": "light"
     },
     "output_type": "display_data"
    }
   ],
   "source": [
    "import matplotlib.pyplot as plt\n",
    "import seaborn as sns\n",
    "sns.histplot(data=df[YEARS], kde=True, binwidth=5)\n",
    "plt.xlabel('Years of Experience')\n",
    "plt.ylabel('Count')\n",
    "plt.title('Distribution of Years of Experience')\n",
    "plt.show()"
   ]
  },
  {
   "attachments": {},
   "cell_type": "markdown",
   "metadata": {},
   "source": [
    "1-Expectation :\n",
    "I thins the mean will be around 10-15 years of experience, is the IT field has started growing in the last 15 years.\n",
    "\n",
    "2-After collecting:\n",
    "It's clear that the data mean of years of experience is between 5-10 years. \n",
    "\n",
    "3-Comparing Data and expectations:\n",
    "not exact but close to what is expected. ✔"
   ]
  },
  {
   "attachments": {},
   "cell_type": "markdown",
   "metadata": {},
   "source": [
    "#### Visualizing distribution of years of experience in different positions"
   ]
  },
  {
   "cell_type": "code",
   "execution_count": 68,
   "metadata": {},
   "outputs": [
    {
     "data": {
      "image/png": "[encoded data removed]",
      "text/plain": [
       "<Figure size 432x288 with 1 Axes>"
      ]
     },
     "metadata": {
      "needs_background": "light"
     },
     "output_type": "display_data"
    }
   ],
   "source": [
    "import numpy as np\n",
    "import matplotlib.pyplot as plt\n",
    "\n",
    "sns.boxplot(x=POSITION, y=YEARS, data=df)\n",
    "plt.xticks(rotation=90)\n",
    "plt.show()"
   ]
  },
  {
   "attachments": {},
   "cell_type": "markdown",
   "metadata": {},
   "source": [
    "#### Numerically exploring the distribution of years of experience "
   ]
  },
  {
   "cell_type": "code",
   "execution_count": 15,
   "metadata": {},
   "outputs": [
    {
     "name": "stdout",
     "output_type": "stream",
     "text": [
      "Mean years for Other is : 9.837310195227765\n",
      "Mean years for backend developer is : 8.941186161449753\n",
      "Mean years for software engineer is : 10.164825046040516\n",
      "Mean years for frontend developer is : 6.962162162162162\n",
      "Mean years for product manager is : 8.732394366197184\n",
      "Mean years for mobile developer is : 7.663522012578617\n",
      "Mean years for qa engineer is : 7.793939393939394\n",
      "Mean years for devops is : 10.129251700680273\n",
      "Mean years for fullstack developer is : 8.43157894736842\n",
      "Mean years for ai engineer is : 5.8762331838565025\n",
      "Mean years for security engineer is : 8.2\n",
      "Mean years for designer (ui/ux) is : 8.65\n",
      "Mean years for researcher is : 8.285714285714286\n"
     ]
    }
   ],
   "source": [
    "for position in df[POSITION].unique():\n",
    "    mean_years = df[df[POSITION] == position][YEARS].mean()\n",
    "    median_years = df[df[POSITION] == position][YEARS].median()\n",
    "    std_years = df[df[POSITION] == position][YEARS].std()\n",
    "    # display the computed statistics\n",
    "    print('Mean years for',position,'is :',mean_years)\n"
   ]
  },
  {
   "attachments": {},
   "cell_type": "markdown",
   "metadata": {},
   "source": [
    "Now we will filter on Seniority level, to focus on the needed years of experience for the seniors only"
   ]
  },
  {
   "cell_type": "code",
   "execution_count": 16,
   "metadata": {},
   "outputs": [
    {
     "name": "stdout",
     "output_type": "stream",
     "text": [
      "['Senior' 'Middle' 'Junior' 'Head' 'Lead' 'Principal' 'No level' 'VP'\n",
      " 'Manager' 'Work Center Manager' 'CTO' 'No level ' 'Director' 'Key'\n",
      " 'C-level executive manager' 'intern' 'Student'\n",
      " 'no idea, there are no ranges in the firm ' 'C-Level' 'Working Student'\n",
      " 'Entry level' 'Intern' 'student' 'Self employed']\n"
     ]
    }
   ],
   "source": [
    "print(df[SENIORITY].unique()) "
   ]
  },
  {
   "attachments": {},
   "cell_type": "markdown",
   "metadata": {},
   "source": [
    "#### Needs cleaning to be 4 levels only:     \n",
    "Senior           \n",
    "Mid level           \n",
    "Junior          \n",
    "Head"
   ]
  },
  {
   "cell_type": "code",
   "execution_count": 18,
   "metadata": {},
   "outputs": [
    {
     "name": "stdout",
     "output_type": "stream",
     "text": [
      "2914\n",
      "['senior' 'middle' 'junior' 'head']\n"
     ]
    }
   ],
   "source": [
    "df = clean_senior_col(df)\n",
    "print(len(df[SENIORITY]))\n",
    "print(df[SENIORITY].unique())"
   ]
  },
  {
   "cell_type": "code",
   "execution_count": 20,
   "metadata": {},
   "outputs": [
    {
     "data": {
      "image/png": "[encoded data removed]",
      "text/plain": [
       "<Figure size 432x288 with 1 Axes>"
      ]
     },
     "metadata": {
      "needs_background": "light"
     },
     "output_type": "display_data"
    }
   ],
   "source": [
    "sns.histplot(data=df[df[SENIORITY] == 'senior'][YEARS], kde=True, binwidth=5)\n",
    "plt.xlabel('Years of Experience')\n",
    "plt.ylabel('Count')\n",
    "plt.title('Distribution of Years of Experience')\n",
    "plt.show()"
   ]
  },
  {
   "attachments": {},
   "cell_type": "markdown",
   "metadata": {},
   "source": [
    "The histogram shows that to be a senior, regardless of field/position most of them it needs at least 10 years"
   ]
  },
  {
   "attachments": {},
   "cell_type": "markdown",
   "metadata": {},
   "source": [
    "Let's explore more for the needed years per position"
   ]
  },
  {
   "cell_type": "code",
   "execution_count": 21,
   "metadata": {},
   "outputs": [
    {
     "data": {
      "image/png": "[encoded data removed]",
      "text/plain": [
       "<Figure size 432x288 with 1 Axes>"
      ]
     },
     "metadata": {
      "needs_background": "light"
     },
     "output_type": "display_data"
    }
   ],
   "source": [
    "import numpy as np\n",
    "import matplotlib.pyplot as plt\n",
    "\n",
    "sns.boxplot(x=POSITION, y=YEARS, data=df[df[SENIORITY] == 'senior'])\n",
    "plt.xticks(rotation=90)\n",
    "plt.show()"
   ]
  },
  {
   "attachments": {},
   "cell_type": "markdown",
   "metadata": {},
   "source": [
    "We can see that there is disparity in the needed years fo expereince to become a senior in each position,                                                                                               \n",
    "                                                                            \n",
    "For example, the average needed years for the QA is around 5-6 years,Unlike for the researcher position\n",
    "where you need at least 8-9 years and on average it around 12 years! That's interesting.   \n",
    "                                                                                                         \n",
    "We can categorize the positions into two types .                    \n",
    "1- 10-15 Needed years which includes :[ SW ,BE, DevOps, Product Manager, Others, CTO,IT,Researcher,Embedded ]                   \n",
    "2- 5-10 Needed years which includes : [FE, UI/UX designer, Mobile Development, Data Scientist, Software Testing, ML, QA]                \n"
   ]
  },
  {
   "cell_type": "code",
   "execution_count": 22,
   "metadata": {},
   "outputs": [],
   "source": [
    "import statsmodels.api as sm\n",
    "from statsmodels.formula.api import ols\n",
    "# define null and alternative hypotheses\n",
    "# we assume alpha = 0.05\n",
    "null_hypothesis = 'There is no significant difference in the means of years of experience across positions'\n",
    "alternative_hypothesis = 'There is a significant difference in the means of years of experience across positions'"
   ]
  },
  {
   "cell_type": "code",
   "execution_count": 39,
   "metadata": {},
   "outputs": [
    {
     "name": "stdout",
     "output_type": "stream",
     "text": [
      "                sum_sq      df          F        PR(>F)\n",
      "Position   2757.050046    12.0  12.498375  9.858017e-25\n",
      "Residual  29780.012110  1620.0        NaN           NaN\n",
      "Reject null hypothesis. There is a significant difference in the means of years of experience across positions\n"
     ]
    }
   ],
   "source": [
    "# perform one-way ANOVA test\n",
    "seniors_df = df[df[SENIORITY] == 'senior']\n",
    "model = ols('Q(\"Years of experience\")~Position', data=seniors_df).fit()\n",
    "anova_table = sm.stats.anova_lm(model, typ=2)\n",
    "# print ANOVA table\n",
    "print(anova_table)\n",
    "\n",
    "# interpret p-value\n",
    "p_value = anova_table['PR(>F)'][0]\n",
    "if p_value < 0.05:\n",
    "    print('Reject null hypothesis. ' + alternative_hypothesis)\n",
    "else:\n",
    "    print('Cannot reject null hypothesis. ' + null_hypothesis)"
   ]
  }
 ],
 "metadata": {
  "kernelspec": {
   "display_name": "base",
   "language": "python",
   "name": "python3"
  },
  "language_info": {
   "codemirror_mode": {
    "name": "ipython",
    "version": 3
   },
   "file_extension": ".py",
   "mimetype": "text/x-python",
   "name": "python",
   "nbconvert_exporter": "python",
   "pygments_lexer": "ipython3",
   "version": "3.9.12"
  },
  "orig_nbformat": 4
 },
 "nbformat": 4,
 "nbformat_minor": 2
}
