{
 "cells": [
  {
   "cell_type": "code",
   "execution_count": 1,
   "metadata": {},
   "outputs": [
    {
     "name": "stderr",
     "output_type": "stream",
     "text": [
      "c:\\Users\\marye\\anaconda3\\lib\\site-packages\\fuzzywuzzy\\fuzz.py:11: UserWarning: Using slow pure-python SequenceMatcher. Install python-Levenshtein to remove this warning\n",
      "  warnings.warn('Using slow pure-python SequenceMatcher. Install python-Levenshtein to remove this warning')\n"
     ]
    }
   ],
   "source": [
    "import pandas as pd\n",
    "from E_Salary_Cities import read,rename_columns,merge,clean_positions\n",
    "from E_Position_YearsOfExperience import clean_position,clean_senior_col,clean_years\n",
    "from E_Age_CompanyType import plt_univariate_histogram\n",
    "from E_Contract_Salary import clean_contract\n",
    "import re\n",
    "import matplotlib.pyplot as plt\n",
    "import seaborn as sns\n"
   ]
  },
  {
   "attachments": {},
   "cell_type": "markdown",
   "metadata": {},
   "source": [
    "<div style=\"border-width:1; border-radius: 15px; border-style: solid; border-color: rgb(10, 10, 10); background-color: #316B83; text-align: center;font: 14pt 'Candara';font-weight:bold;\"><h1> State & Refine QS</h1></div>"
   ]
  },
  {
   "attachments": {},
   "cell_type": "markdown",
   "metadata": {},
   "source": [
    "\n",
    "What is the relationship between contract duration & salary? "
   ]
  },
  {
   "cell_type": "code",
   "execution_count": 2,
   "metadata": {},
   "outputs": [
    {
     "name": "stdout",
     "output_type": "stream",
     "text": [
      "{'Gender', 'Company size', 'Age', 'Your main technology / programming language', 'Main language at work', 'Company type', 'Сontract duration', 'Position', 'Years of experience', 'Number of vacation days', 'City', 'Salary', 'Seniority level'}\n",
      "<class 'pandas.core.frame.DataFrame'>\n",
      "RangeIndex: 2244 entries, 0 to 2243\n",
      "Data columns (total 13 columns):\n",
      " #   Column                                       Non-Null Count  Dtype  \n",
      "---  ------                                       --------------  -----  \n",
      " 0   Gender                                       2234 non-null   object \n",
      " 1   Company size                                 2212 non-null   object \n",
      " 2   Age                                          2108 non-null   float64\n",
      " 3   Your main technology / programming language  2103 non-null   object \n",
      " 4   Main language at work                        2223 non-null   object \n",
      " 5   Company type                                 2188 non-null   object \n",
      " 6   Сontract duration                            2186 non-null   object \n",
      " 7   Position                                     2237 non-null   object \n",
      " 8   Years of experience                          2228 non-null   object \n",
      " 9   Number of vacation days                      2116 non-null   object \n",
      " 10  City                                         2244 non-null   object \n",
      " 11  Salary                                       2243 non-null   float64\n",
      " 12  Seniority level                              2217 non-null   object \n",
      "dtypes: float64(2), object(11)\n",
      "memory usage: 228.0+ KB\n"
     ]
    },
    {
     "name": "stderr",
     "output_type": "stream",
     "text": [
      "d:\\Study\\4B\\Data science\\github\\Data-Science-Project\\Questions\\E_Salary_Cities.py:41: FutureWarning: Passing a set as an indexer is deprecated and will raise in a future version. Use a list instead.\n",
      "  return pd.concat(data_frames, ignore_index=True)[common_columns]\n"
     ]
    }
   ],
   "source": [
    "df20, df19, df18 = read()\n",
    "rename_columns(df20,df19,df18)\n",
    "common_cols = set(df20.columns).intersection(df19.columns)\n",
    "print(common_cols)\n",
    "df = merge([df20,df19],common_cols)\n",
    "df.info()\n"
   ]
  },
  {
   "cell_type": "code",
   "execution_count": 3,
   "metadata": {},
   "outputs": [
    {
     "name": "stdout",
     "output_type": "stream",
     "text": [
      "Salary                1\n",
      "Сontract duration    58\n",
      "dtype: int64\n"
     ]
    }
   ],
   "source": [
    "SALARY = 'Salary'\n",
    "CONTRACT = 'Сontract duration'\n",
    "print(df[[SALARY,CONTRACT]].isna().sum())\n",
    "contract_salary = df[[CONTRACT,SALARY]].dropna()\n"
   ]
  },
  {
   "attachments": {},
   "cell_type": "markdown",
   "metadata": {},
   "source": [
    "Salary statistics"
   ]
  },
  {
   "cell_type": "code",
   "execution_count": 4,
   "metadata": {},
   "outputs": [
    {
     "name": "stdout",
     "output_type": "stream",
     "text": [
      "    Сontract duration    Salary\n",
      "0  Unlimited contract   80000.0\n",
      "1  Unlimited contract   80000.0\n",
      "2  Temporary contract  120000.0\n",
      "3  Unlimited contract   54000.0\n",
      "4  Unlimited contract   62000.0\n"
     ]
    }
   ],
   "source": [
    "print(contract_salary.head(5))"
   ]
  },
  {
   "attachments": {},
   "cell_type": "markdown",
   "metadata": {},
   "source": [
    "Salaries are all in Euro, no need to unify the currency . we will use it directly"
   ]
  },
  {
   "attachments": {},
   "cell_type": "markdown",
   "metadata": {},
   "source": [
    "#### Just one missing value for the salary column, no need to impute."
   ]
  },
  {
   "cell_type": "code",
   "execution_count": 5,
   "metadata": {},
   "outputs": [
    {
     "name": "stdout",
     "output_type": "stream",
     "text": [
      "There are 1 missing salary/ies\n"
     ]
    }
   ],
   "source": [
    "print(\"There are\",df[SALARY].isna().sum(), \"missing salary/ies\")"
   ]
  },
  {
   "attachments": {},
   "cell_type": "markdown",
   "metadata": {},
   "source": [
    "## Exploring the salary statistics"
   ]
  },
  {
   "cell_type": "code",
   "execution_count": 6,
   "metadata": {},
   "outputs": [
    {
     "name": "stdout",
     "output_type": "stream",
     "text": [
      "Mean salary:  300307.1538352403\n",
      "Median salary:  70000.0\n",
      "Standard deviation of salary:  10695071.571778344\n",
      "Max salary:  500000000.0\n",
      "Min salary:  6000.0\n"
     ]
    }
   ],
   "source": [
    "# compute mean, median, and standard deviation of a column\n",
    "mean_salary = contract_salary[SALARY].astype(float).mean()\n",
    "median_salary = contract_salary[SALARY].astype(float).median()\n",
    "std_salary = contract_salary[SALARY].astype(float).std()\n",
    "max_salary = contract_salary[SALARY].astype(float).max()\n",
    "min_salary = contract_salary[SALARY].astype(float).min()\n",
    "\n",
    "# display the computed statistics\n",
    "print('Mean salary: ', mean_salary)\n",
    "print('Median salary: ', median_salary)\n",
    "print('Standard deviation of salary: ', std_salary)\n",
    "print('Max salary: ', max_salary)\n",
    "print('Min salary: ', min_salary)\n"
   ]
  },
  {
   "cell_type": "code",
   "execution_count": 7,
   "metadata": {},
   "outputs": [
    {
     "data": {
      "image/png": "[encoded data removed]",
      "text/plain": [
       "<Figure size 432x288 with 1 Axes>"
      ]
     },
     "metadata": {
      "needs_background": "light"
     },
     "output_type": "display_data"
    }
   ],
   "source": [
    "plt_univariate_histogram(df,SALARY)"
   ]
  },
  {
   "cell_type": "code",
   "execution_count": 8,
   "metadata": {},
   "outputs": [
    {
     "data": {
      "image/png": "[encoded data removed]",
      "text/plain": [
       "<Figure size 1080x360 with 1 Axes>"
      ]
     },
     "metadata": {
      "needs_background": "light"
     },
     "output_type": "display_data"
    }
   ],
   "source": [
    "plt.figure(figsize=(15, 5))\n",
    "sns.boxplot(y=SALARY, data=df)\n",
    "plt.xticks(rotation=90)\n",
    "plt.show()"
   ]
  },
  {
   "attachments": {},
   "cell_type": "markdown",
   "metadata": {},
   "source": [
    "1-Expectation :\n",
    "I guess the mean of the annaual salary of an IT engineer in Germany is around 50-60k in euors as Google says so.\n",
    "\n",
    "2-After collecting:\n",
    "The data says that the mean of salaries is 4487k, but median is 70k \n",
    "\n",
    "3-Comparing Data and expectations:\n",
    "the median is not much far from the expected mean, but the mean is much more larger than the expected.\n",
    "As we know it, mean is sensitive to outliers .Let's remove outliers and double-check."
   ]
  },
  {
   "attachments": {},
   "cell_type": "markdown",
   "metadata": {},
   "source": [
    "### There are outliers that needs removal"
   ]
  },
  {
   "cell_type": "code",
   "execution_count": 9,
   "metadata": {},
   "outputs": [],
   "source": [
    "from E_Salary_Cities import remove_outliers\n",
    "contract_salary = remove_outliers(df,SALARY)"
   ]
  },
  {
   "cell_type": "code",
   "execution_count": 10,
   "metadata": {},
   "outputs": [],
   "source": [
    "contract_salary = contract_salary[contract_salary[SALARY] != 'nan']\n",
    "contract_salary[SALARY] = contract_salary[SALARY].astype('float64')\n",
    "contract_salary[SALARY] = contract_salary[SALARY].astype('int64')"
   ]
  },
  {
   "attachments": {},
   "cell_type": "markdown",
   "metadata": {},
   "source": [
    "#### Repeat the cycle "
   ]
  },
  {
   "cell_type": "code",
   "execution_count": 11,
   "metadata": {},
   "outputs": [
    {
     "name": "stdout",
     "output_type": "stream",
     "text": [
      "Mean salary:  69135.70384615385\n",
      "Median salary:  68375.0\n",
      "Standard deviation of salary:  15808.153332636677\n",
      "Max salary:  110000\n",
      "Min salary:  30000\n"
     ]
    }
   ],
   "source": [
    "mean_salary = contract_salary[SALARY].mean()\n",
    "median_salary = contract_salary[SALARY].median()\n",
    "std_salary = contract_salary[SALARY].std()\n",
    "max_salary = contract_salary[SALARY].max()\n",
    "min_salary = contract_salary[SALARY].min()\n",
    "\n",
    "# display the computed statistics\n",
    "print('Mean salary: ',mean_salary)\n",
    "print('Median salary: ', median_salary)\n",
    "print('Standard deviation of salary: ', std_salary)\n",
    "print('Max salary: ', max_salary)\n",
    "print('Min salary: ', min_salary)"
   ]
  },
  {
   "attachments": {},
   "cell_type": "markdown",
   "metadata": {},
   "source": [
    "Now Expectation meets the reality,\n",
    "As expected the outliers affected the mean heavly, so after removing them we can see that the mean and median are close to each other and to what we expected ."
   ]
  },
  {
   "cell_type": "code",
   "execution_count": 12,
   "metadata": {},
   "outputs": [
    {
     "data": {
      "image/png": "[encoded data removed]",
      "text/plain": [
       "<Figure size 432x288 with 1 Axes>"
      ]
     },
     "metadata": {
      "needs_background": "light"
     },
     "output_type": "display_data"
    }
   ],
   "source": [
    "import matplotlib.pyplot as plt\n",
    "import seaborn as sns\n",
    "sns.histplot(data=contract_salary[SALARY], kde=True, binwidth=10000)\n",
    "plt.xlabel('Salary')\n",
    "plt.ylabel('Count')\n",
    "plt.title('Distribution of Salary after outliers removal')\n",
    "plt.show()"
   ]
  },
  {
   "cell_type": "code",
   "execution_count": 13,
   "metadata": {},
   "outputs": [
    {
     "data": {
      "image/png": "[encoded data removed]",
      "text/plain": [
       "<Figure size 432x288 with 1 Axes>"
      ]
     },
     "metadata": {
      "needs_background": "light"
     },
     "output_type": "display_data"
    }
   ],
   "source": [
    "# plot boxplot\n",
    "plt.boxplot(contract_salary[SALARY])\n",
    "plt.xlabel(SALARY)\n",
    "plt.title('Boxplot of Salaries')\n",
    "plt.show()"
   ]
  },
  {
   "attachments": {},
   "cell_type": "markdown",
   "metadata": {},
   "source": [
    "## Contract duration"
   ]
  },
  {
   "attachments": {},
   "cell_type": "markdown",
   "metadata": {},
   "source": [
    "#### To know the different categories of duration:"
   ]
  },
  {
   "cell_type": "code",
   "execution_count": 14,
   "metadata": {},
   "outputs": [
    {
     "name": "stdout",
     "output_type": "stream",
     "text": [
      "There is 8\n",
      "The categories are: ['Unlimited contract' 'Temporary contract' nan 'unlimited' '6 months'\n",
      " 'more than 1 year' '1 year' '3 months']\n"
     ]
    }
   ],
   "source": [
    "unique_duration = contract_salary[CONTRACT].unique()\n",
    "print(\"There is\",len(unique_duration))\n",
    "print(\"The categories are:\",unique_duration)"
   ]
  },
  {
   "attachments": {},
   "cell_type": "markdown",
   "metadata": {},
   "source": [
    "There are missing (nan) values that need to be processed"
   ]
  },
  {
   "cell_type": "code",
   "execution_count": 15,
   "metadata": {},
   "outputs": [
    {
     "name": "stdout",
     "output_type": "stream",
     "text": [
      "There are  38 missing values in duration\n"
     ]
    }
   ],
   "source": [
    "null = contract_salary[CONTRACT].isna().sum()\n",
    "print(\"There are \",null,\"missing values in duration\")"
   ]
  },
  {
   "attachments": {},
   "cell_type": "markdown",
   "metadata": {},
   "source": [
    "#### For the missing values, i think it's proper to remove these rows as its a personal choice that we can't impute."
   ]
  },
  {
   "cell_type": "code",
   "execution_count": 16,
   "metadata": {},
   "outputs": [
    {
     "name": "stdout",
     "output_type": "stream",
     "text": [
      "['Unlimited contract' 'Temporary contract' 'unlimited' '6 months'\n",
      " 'more than 1 year' '1 year' '3 months']\n"
     ]
    }
   ],
   "source": [
    "contract_salary = contract_salary[~contract_salary[CONTRACT].isna()]\n",
    "print(contract_salary[CONTRACT].unique())"
   ]
  },
  {
   "attachments": {},
   "cell_type": "markdown",
   "metadata": {},
   "source": [
    "Apply data cleaning to unify similar (mis-spelled) categories "
   ]
  },
  {
   "cell_type": "code",
   "execution_count": 17,
   "metadata": {},
   "outputs": [
    {
     "name": "stdout",
     "output_type": "stream",
     "text": [
      "There is 6\n",
      "The categories are: ['unlimited' 'temporary contract' '6 months' 'more than 1 year' '1 year'\n",
      " '3 months']\n"
     ]
    }
   ],
   "source": [
    "contract_salary= clean_contract(contract_salary)\n",
    "unique_duration = contract_salary[CONTRACT].unique()\n",
    "print(\"There is\",len(unique_duration))\n",
    "print(\"The categories are:\",unique_duration)"
   ]
  },
  {
   "cell_type": "code",
   "execution_count": 19,
   "metadata": {},
   "outputs": [
    {
     "name": "stdout",
     "output_type": "stream",
     "text": [
      "Mode duration:  0    unlimited\n",
      "Name: Сontract duration, dtype: object\n"
     ]
    }
   ],
   "source": [
    "mode_duration = contract_salary[CONTRACT].mode()\n",
    "# display the computed statistics\n",
    "print('Mode duration: ',mode_duration)"
   ]
  },
  {
   "cell_type": "code",
   "execution_count": 20,
   "metadata": {},
   "outputs": [
    {
     "data": {
      "image/png": "[encoded data removed]",
      "text/plain": [
       "<Figure size 432x288 with 1 Axes>"
      ]
     },
     "metadata": {
      "needs_background": "light"
     },
     "output_type": "display_data"
    },
    {
     "name": "stdout",
     "output_type": "stream",
     "text": [
      "unlimited             1900\n",
      "more than 1 year        56\n",
      "temporary contract      45\n",
      "1 year                  34\n",
      "6 months                 6\n",
      "3 months                 1\n",
      "Name: Сontract duration, dtype: int64\n"
     ]
    }
   ],
   "source": [
    "# count the frequency of each category\n",
    "duration_counts = contract_salary[CONTRACT].value_counts()\n",
    "# plot bar chart\n",
    "duration_counts.plot(kind='bar')\n",
    "plt.xlabel('Contract Duration')\n",
    "plt.ylabel('Frequency')\n",
    "plt.title('Distribution of Contract Durations')\n",
    "plt.show()\n",
    "category_counts = contract_salary[CONTRACT].value_counts(normalize=False)\n",
    "\n",
    "print(category_counts)"
   ]
  },
  {
   "attachments": {},
   "cell_type": "markdown",
   "metadata": {},
   "source": [
    "1-Expectation :\n",
    "After searching i found that,the indefinite (unlimited) contract is the standard contract type.\n",
    "\n",
    "2-After collecting:\n",
    "The data says that most frequent category is the unlimited . \n",
    "\n",
    "3-Comparing Data and expectations:\n",
    "We found what we are expecting."
   ]
  },
  {
   "cell_type": "code",
   "execution_count": 21,
   "metadata": {},
   "outputs": [
    {
     "data": {
      "image/png": "[encoded data removed]",
      "text/plain": [
       "<Figure size 720x432 with 1 Axes>"
      ]
     },
     "metadata": {
      "needs_background": "light"
     },
     "output_type": "display_data"
    }
   ],
   "source": [
    "# plot boxplots by contract category\n",
    "contract_salary.boxplot(column=SALARY, by=CONTRACT, figsize=(10,6))\n",
    "plt.xlabel('Contract Category')\n",
    "plt.ylabel('Salary')\n",
    "plt.title('Boxplot of Salaries by Contract Category')\n",
    "plt.show()"
   ]
  },
  {
   "attachments": {},
   "cell_type": "markdown",
   "metadata": {},
   "source": [
    "#### Expectations : \n",
    "In general, longer contract durations may be associated with higher salaries, as they can provide more job security and stability for employees . However, this relationship can vary depending on factors such as job role, industry sector, and company size. For example, some companies may offer higher salaries for shorter contract durations to attract top talent or fill specific project needs"
   ]
  },
  {
   "attachments": {},
   "cell_type": "markdown",
   "metadata": {},
   "source": [
    "### Collecting information\n",
    "The graph shows that there is variation in the average salary in different contract categories.\n",
    "For example, 6 months category has the highest average of salaries.\n",
    "Average salaries in the unlimited category is close to the mean & median (expected as it's the\n",
    "majority)."
   ]
  },
  {
   "attachments": {},
   "cell_type": "markdown",
   "metadata": {},
   "source": [
    "### Comparing Data and Expectations\n",
    "I believe Expectations match collected information"
   ]
  },
  {
   "cell_type": "code",
   "execution_count": 23,
   "metadata": {},
   "outputs": [
    {
     "name": "stdout",
     "output_type": "stream",
     "text": [
      "Сontract duration\n",
      "1 year                63741.176471\n",
      "3 months              54000.000000\n",
      "6 months              78833.333333\n",
      "more than 1 year      65407.142857\n",
      "temporary contract    59282.222222\n",
      "unlimited             69420.981053\n",
      "Name: Salary, dtype: float64\n"
     ]
    }
   ],
   "source": [
    "# calculate mean salary for each contract category\n",
    "category_means = contract_salary.groupby(CONTRACT)[SALARY].mean()\n",
    "print(category_means)"
   ]
  },
  {
   "attachments": {},
   "cell_type": "markdown",
   "metadata": {},
   "source": [
    "### Is there a Relationship between Contract duration and salary ?"
   ]
  },
  {
   "cell_type": "code",
   "execution_count": 24,
   "metadata": {},
   "outputs": [
    {
     "name": "stdout",
     "output_type": "stream",
     "text": [
      "Kruskal-Wallis H test\n",
      "Test statistic: 27.608562189681496\n",
      "p-value: 4.3405931086896265e-05\n"
     ]
    }
   ],
   "source": [
    "from scipy.stats import kruskal\n",
    "# group salary by contract duration\n",
    "groups = []\n",
    "for name, group in contract_salary.groupby(CONTRACT):\n",
    "    groups.append(group[SALARY])\n",
    "\n",
    "# perform Kruskal-Wallis H test\n",
    "stat, p = kruskal(*groups)\n",
    "\n",
    "# print test results\n",
    "print('Kruskal-Wallis H test')\n",
    "print('Test statistic:', stat)\n",
    "print('p-value:', p)"
   ]
  },
  {
   "attachments": {},
   "cell_type": "markdown",
   "metadata": {},
   "source": [
    "The Kruskal-Wallis H test is a non-parametric statistical test that compares the median values of the independent groups to determine if there is a significant difference between them. Specifically, it tests the null hypothesis that the median values of all groups are equal against the alternative hypothesis that at least one group has a different median value."
   ]
  },
  {
   "attachments": {},
   "cell_type": "markdown",
   "metadata": {},
   "source": [
    "#### Expectations :\n",
    "I expect from the graph and other search i did that, the salaries varies in different contract durations based on different point of views"
   ]
  },
  {
   "attachments": {},
   "cell_type": "markdown",
   "metadata": {},
   "source": [
    "#### Collected Data:\n",
    "The hypothesis test kruskal resulted in a p value that is smaller enough than 0.05 to conclude that there is enough evidence to suggest a significant difference in salary among the contract duration categories."
   ]
  },
  {
   "attachments": {},
   "cell_type": "markdown",
   "metadata": {},
   "source": [
    "### Comparing Data and Expectations\n",
    "Collected data meets our expectation and we can say that there is some relation between the contract duration and salary, indeed it's not the only affecting factor.However , on average it has some effect"
   ]
  },
  {
   "attachments": {},
   "cell_type": "markdown",
   "metadata": {},
   "source": [
    "# Interpretaion\n",
    "Based on the results of the Kruskal-Wallis H test with a p-value of 4.3405931086896265e-05, we can conclude that there is a statistically significant difference in salary between at least two of the categories of contract duration. This suggests that contract duration may be a factor that influences salary for IT engineers in Germany.\n",
    "\n",
    "However, the Kruskal-Wallis H test does not identify which specific groups have significantly different median salaries. To determine which groups are significantly different, we should perform post-hoc tests such as the Mann-Whitney U test or Dunn's test.\n",
    "\n",
    "It's important to note that statistical significance does not necessarily imply practical significance. Therefore, it's important to interpret the results of statistical tests in the context of the data and consider the practical implications of the findings. Additionally, correlation does not necessarily imply causation, so it's important to consider other factors that may influence salary for IT engineers in Germany, such as experience, education, skills, job role, and company size."
   ]
  },
  {
   "attachments": {},
   "cell_type": "markdown",
   "metadata": {},
   "source": [
    "# Business value\n",
    "Recruitment and Hiring: Understanding the relationship between contract duration and salary can help businesses attract and retain top talent by offering competitive compensation packages that align with industry standards. For example, if there is a positive correlation between contract duration and salary, businesses may need to adjust their salary offers for temporary or short-term contract positions to remain competitive.\n",
    " In a positive correlation between contract duration and salary, it's possible that shorter contract durations may be associated with lower salaries. In this case, businesses may need to adjust their salary offers for temporary or short-term contract positions to remain competitive.\n",
    "\n",
    "One reason to do this is to attract top talent in a competitive job market. Even for short-term or temporary positions, businesses may need to offer competitive salaries to attract qualified candidates who have multiple job offers or options. Offering a lower salary for short-term positions may make the position less attractive to potential candidates, which can make it harder for the business to fill the position and complete the project on time and within budget.\n",
    "\n",
    "Additionally, offering fair and competitive compensation packages can help businesses build a positive reputation as an employer of choice. This can lead to higher employee satisfaction, better retention rates, and increased productivity and profitability in the long run.\n",
    "\n",
    "Therefore, even if shorter contract durations are associated with lower salaries, businesses may need to consider offering competitive salaries to remain competitive in the job market and attract top talent. Ultimately, the decision on how to adjust salary offers for different contract durations should be based on a thorough analysis of the data and the specific context of the business and industry."
   ]
  }
 ],
 "metadata": {
  "kernelspec": {
   "display_name": "base",
   "language": "python",
   "name": "python3"
  },
  "language_info": {
   "codemirror_mode": {
    "name": "ipython",
    "version": 3
   },
   "file_extension": ".py",
   "mimetype": "text/x-python",
   "name": "python",
   "nbconvert_exporter": "python",
   "pygments_lexer": "ipython3",
   "version": "3.9.12"
  },
  "orig_nbformat": 4
 },
 "nbformat": 4,
 "nbformat_minor": 2
}
