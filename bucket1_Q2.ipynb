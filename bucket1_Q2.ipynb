{
 "cells": [
  {
   "cell_type": "code",
   "execution_count": 104,
   "metadata": {},
   "outputs": [],
   "source": [
    "import pandas as pd\n",
    "from utils import data_pre, count_nan_values\n",
    "import re\n",
    "import matplotlib.pyplot as plt"
   ]
  },
  {
   "attachments": {},
   "cell_type": "markdown",
   "metadata": {},
   "source": [
    "How the position (backend/ Machine learning..etc) affects the required years of experience needed in order to be an official senior?"
   ]
  },
  {
   "attachments": {},
   "cell_type": "markdown",
   "metadata": {},
   "source": [
    "We need to deal with columns:           \n",
    "1-Position              \n",
    "2-Years of Experience           \n",
    "3-Seniority level           "
   ]
  },
  {
   "cell_type": "code",
   "execution_count": 105,
   "metadata": {},
   "outputs": [
    {
     "name": "stdout",
     "output_type": "stream",
     "text": [
      "['Startup' 'Product' nan 'Consulting / Agency' 'Bodyshop / Outsource'\n",
      " 'University' 'Bank' 'Outsource']\n"
     ]
    }
   ],
   "source": [
    "POSITION=\"Position\"\n",
    "YEARS = 'Experience_Years'\n",
    "\n",
    "df = pd.DataFrame()\n",
    "df = data_pre(df)"
   ]
  },
  {
   "cell_type": "code",
   "execution_count": 106,
   "metadata": {},
   "outputs": [],
   "source": [
    "SENIORITY = 'Seniority'"
   ]
  },
  {
   "cell_type": "code",
   "execution_count": 107,
   "metadata": {},
   "outputs": [],
   "source": [
    "\n",
    "def clean_position(df):\n",
    "    df[POSITION]=df[POSITION].str.strip().str.lower()\n",
    "    df[POSITION]=df[POSITION]\\\n",
    "    .str.replace('devops manager','DevOps')\\\n",
    "    .str.replace('cloud engineer','DevOps')\\\n",
    "    .str.replace('cloud architect','DevOps')\\\n",
    "    .str.replace('sre','DevOps')\\\n",
    "    .str.replace('devops','DevOps')\\\n",
    "    .str.replace('cloud platform engineer','DevOps')\\\n",
    "    .str.replace('bi consultant sap/ data engineer','Data Scientist')\\\n",
    "    .str.replace('db developer/data analyst','Data Scientist')\\\n",
    "    .str.replace('big data engineer','Data Scientist')\\\n",
    "    .str.replace('bi developer / data engineer','Data Scientist')\\\n",
    "    .str.replace('head of bi','Data Scientist')\\\n",
    "    .str.replace('bi developer / data scientist','Data Scientist')\\\n",
    "    .str.replace('senior data engineer','Data Scientist')\\\n",
    "    .str.replace('bi consultant','Data Scientist')\\\n",
    "    .str.replace('bi it consultant','Data Scientist')\\\n",
    "    .str.replace('bi analyst','Data Scientist')\\\n",
    "    .str.replace('analytics engineer','Data Scientist')\\\n",
    "    .str.replace('data analyst','Data Scientist')\\\n",
    "    .str.replace('dana analyst','Data Scientist')\\\n",
    "    .str.replace('data architect','Data Scientist')\\\n",
    "    .str.replace('product analyst','Data Scientist')\\\n",
    "    .str.replace('researcher/ consumer insights analyst','Data Scientist')\\\n",
    "    .str.replace('data scientist','Data Scientist')\\\n",
    "    .str.replace('data engineer','Data Scientist')\\\n",
    "    .str.replace('working student (qa)','Software Testing')\\\n",
    "    .str.replace('qa engineer','Software Testing')\\\n",
    "    .str.replace('test manager','Software Testing')\\\n",
    "    .str.replace('software developer in test','Software Testing')\\\n",
    "    .str.replace('qa manager','Software Testing')\\\n",
    "    .str.replace('qa automation engineer','Software Testing')\\\n",
    "    .str.replace('qa lead','Software Testing')\\\n",
    "    .str.replace('qa manager','Software Testing')\\\n",
    "    .str.replace('software tester','Software Testing')\\\n",
    "    .str.replace('testmanager','Software Testing')\\\n",
    "    .str.replace('embedded software engineer','Software Engineer')\\\n",
    "    .str.replace('fullstack developer','Software Engineer')\\\n",
    "    .str.replace('full-stack developer','Software Engineer')\\\n",
    "    .str.replace('staff engineer','Software Engineer')\\\n",
    "    .str.replace('fullstack engineer, ну или software engineer','Software Engineer')\\\n",
    "    .str.replace('software architekt','Software Engineer')\\\n",
    "    .str.replace('software architect','Software Engineer')\\\n",
    "    .str.replace('sw architect','Software Engineer')\\\n",
    "    .str.replace('tech lead / full-stack','Software Engineer')\\\n",
    "    .str.replace('tech lead','Software Engineer')\\\n",
    "    .str.replace('tech leader','Software Engineer')\\\n",
    "    .str.replace('sap developer','Software Engineer')\\\n",
    "    .str.replace('sap consultant','Software Engineer')\\\n",
    "    .str.replace('lead software developer','Software Engineer')\\\n",
    "    .str.replace('lead developer','Software Engineer')\\\n",
    "    .str.replace('software engineer','Software Engineer')\\\n",
    "    .str.replace('it operations manager','IT')\\\n",
    "    .str.replace('head of it','IT')\\\n",
    "    .str.replace('support','IT')\\\n",
    "    .str.replace('it consulting','IT')\\\n",
    "    .str.replace('it manager','IT')\\\n",
    "    .str.replace('it spezialist','IT')\\\n",
    "    .str.replace('erp consultant','IT')\\\n",
    "    .str.replace('mobile developer','Mobile Developer')\\\n",
    "    .str.replace('ios developer','Mobile Developer')\\\n",
    "    .str.replace('technical account manager','Product Manager')\\\n",
    "    .str.replace('technical project manager','Product Manager')\\\n",
    "    .str.replace('technical business analyst','Product Manager')\\\n",
    "    .str.replace('project manager','Product Manager')\\\n",
    "    .str.replace('business analyst','Product Manager')\\\n",
    "    .str.replace('engineering team lead','Product Manager')\\\n",
    "    .replace('engineering manager','Product Manager')\\\n",
    "    .replace('manager','Product Manager')\\\n",
    "    .replace('product manager','Product Manager')\\\n",
    "    .str.replace('backend developer','Backend Developer')\\\n",
    "    .str.replace('frontend developer','Frontend Developer')\\\n",
    "    .str.replace('designer (ui/ux)','Designer (UI/UX)')\\\n",
    "    .replace('cto (ceo, cfo)','CTO')\\\n",
    "    .str.replace('cto','CTO')\\\n",
    "    .str.replace('ml engineer','ML Engineer')\\\n",
    "    .str.replace('machine learning engineer','ML Engineer')\n",
    "    vc= df[POSITION].value_counts()\n",
    "    mask =df[POSITION].isin(vc.index[vc < 5])\n",
    "    df.loc[mask, POSITION] = 'Other'\n",
    "    return df"
   ]
  },
  {
   "cell_type": "code",
   "execution_count": 108,
   "metadata": {},
   "outputs": [
    {
     "name": "stdout",
     "output_type": "stream",
     "text": [
      "There are 7 missing position\n",
      "There are 167 uniqe position\n",
      "The unique positions are:  ['software engineer' 'backend developer' 'frontend developer' 'devops'\n",
      " 'data engineer' 'designer (ui/ux)' 'product manager' 'mobile developer'\n",
      " 'software architect' 'team lead' 'test manager' 'qa engineer'\n",
      " 'data scientist' 'hardware engineer' 'engineering manager'\n",
      " 'analytics engineer' 'localization producer' 'reporting engineer'\n",
      " 'account managet' 'agile master ' 'ml engineer' 'solution architect'\n",
      " 'bi consultant' 'fullstack developer' 'nan' 'cloud architect'\n",
      " 'system administrator' 'project manager' 'network engineer '\n",
      " 'vp engineering' 'agile coach' 'data science manager' 'scrum master'\n",
      " 'firmware engineer' 'solutions architect' 'data center manager'\n",
      " 'c/c++/java developer' 'devops manager' 'tech lead'\n",
      " 'network administrator' 'security manager' 'consultant data analytics'\n",
      " 'bi it consultant' 'graphic designer' 'ios developer' 'banker'\n",
      " 'cloud engineer' 'stuttgart' 'senior program manager'\n",
      " 'db developer/data analyst' 'security engineer' 'business analyst' 'dba'\n",
      " 'support engineer' 'consultant' 'recruiter' 'testautomation'\n",
      " 'sap developer' 'systemadministrator' 'sw architect' 'sre'\n",
      " 'fullstack engineer, ну или software engineer' 'hiwi' 'architect'\n",
      " 'technical lead' 'tech lead / full-stack' 'marketing analyst' 'cto'\n",
      " 'senior network&security eng.' 'software tester '\n",
      " 'sap bw senior consultant ' 'qa manager ' 'director of engineering'\n",
      " 'it spezialist' 'manager' 'consultant ' 'data analyst'\n",
      " 'software developer in test' 'technical account manager ' 'tech leader'\n",
      " 'chief research officer' 'presales engineer '\n",
      " 'freelance ai lead / advisor' 'business development manager operations '\n",
      " 'program manager' 'researcher' 'embedded software engineer'\n",
      " 'dana analyst' 'team manager' 'data analyst ' 'working student (qa)'\n",
      " 'architect ' 'head of engineering' 'sap consultant'\n",
      " 'bi consultant sap/ data engineer' 'computer vision researcher'\n",
      " 'teamlead' 'senior data engineer' 'analyst' 'it manager' 'head of it '\n",
      " 'lead software developer' 'tech recruiting' 'bi analyst '\n",
      " 'bi developer / data engineer' 'senior scrum master (rte)' 'head of bi'\n",
      " 'technical project manager' 'project manager ' 'big data engineer'\n",
      " 'manager ' 'professor' 'ai management' 'sales ' 'xr developer'\n",
      " 'student, software developer, data engineer' 'engineering team lead'\n",
      " 'dataops team lead' 'software sales' 'beikoch'\n",
      " 'product management praktikant' 'product analyst' 'it consulting '\n",
      " 'data architect' 'staff engineer' 'head of it' 'computational linguist'\n",
      " 'rentner' 'technical business analyst' 'full-stack developer'\n",
      " 'qa manager' 'qa lead' 'robotics engineer' 'databengineer'\n",
      " 'application consultant' 'lead developer' 'software architekt'\n",
      " 'testmanager' 'erp consultant' 'researcher/ consumer insights analyst '\n",
      " 'it operations manager' 'embedded developer' 'machine learning engineer'\n",
      " 'designer (ui, ux)' 'qa' 'localization' 'support' 'cto (ceo, cfo)'\n",
      " 'database developer (dba)' 'desktop/unity3d developer' 'recruiter '\n",
      " 'cloud platform engineer' 'lawyer ' 'it security' 'sales engineer'\n",
      " 'mainframe' 'network engineer' 'nlp engineer' 'head of ai'\n",
      " 'crypto developer' 'modelling specialist' 'rpa developer'\n",
      " 'platform engineer' 'ux researcher' 'game developer'\n",
      " 'backend developer & team lead' 'desktop']\n"
     ]
    }
   ],
   "source": [
    "nulls = [None, 'nan', 'nothing', 'not relevant', 'none']\n",
    "missing_pos = df[df['Position'].isin(nulls)]\n",
    "print(\"There are\",len(missing_pos),\"missing position\")\n",
    "print(\"There are\",len(df['Position'].unique()),\"uniqe position\")\n",
    "print(\"The unique positions are: \",df['Position'].unique())"
   ]
  },
  {
   "attachments": {},
   "cell_type": "markdown",
   "metadata": {},
   "source": [
    "The number of uniqe positions is huge, it needs cleaning.                       \n",
    "Let's unify similar positions to the same category"
   ]
  },
  {
   "cell_type": "code",
   "execution_count": 109,
   "metadata": {},
   "outputs": [
    {
     "name": "stderr",
     "output_type": "stream",
     "text": [
      "C:\\Users\\marye\\AppData\\Local\\Temp\\ipykernel_12048\\2374641571.py:3: FutureWarning: The default value of regex will change from True to False in a future version.\n",
      "  df[POSITION]=df[POSITION]\\\n"
     ]
    }
   ],
   "source": [
    "df = clean_position(df)\n"
   ]
  },
  {
   "cell_type": "code",
   "execution_count": 110,
   "metadata": {},
   "outputs": [
    {
     "name": "stdout",
     "output_type": "stream",
     "text": [
      "There are 17 uniqe position\n",
      "The unique positions are:  ['Software Engineer' 'Backend Developer' 'Frontend Developer' 'DevOps'\n",
      " 'Data Scientist' 'designer (ui/ux)' 'Product Manager' 'Mobile Developer'\n",
      " 'Other' 'Software Testing' 'ML Engineer' 'system administrator' 'CTO'\n",
      " 'IT' 'researcher' 'embedded developer' 'qa']\n"
     ]
    }
   ],
   "source": [
    "df = df[~df['Position'].isin(nulls)]\n",
    "print(\"There are\",len(df['Position'].unique()),\"uniqe position\")\n",
    "print(\"The unique positions are: \",df['Position'].unique())"
   ]
  },
  {
   "cell_type": "code",
   "execution_count": 111,
   "metadata": {},
   "outputs": [
    {
     "data": {
      "image/png": "[encoded data removed]",
      "text/plain": [
       "<Figure size 432x288 with 1 Axes>"
      ]
     },
     "metadata": {
      "needs_background": "light"
     },
     "output_type": "display_data"
    }
   ],
   "source": [
    "# count the frequency of each category\n",
    "pos_counts = df['Position'].value_counts()\n",
    "# plot bar chart\n",
    "pos_counts.plot(kind='bar')\n",
    "plt.xlabel('Position')\n",
    "plt.ylabel('Frequency')\n",
    "plt.title('Distribution of Position')\n",
    "plt.show()"
   ]
  },
  {
   "attachments": {},
   "cell_type": "markdown",
   "metadata": {},
   "source": [
    "Years of Experience"
   ]
  },
  {
   "cell_type": "code",
   "execution_count": 112,
   "metadata": {},
   "outputs": [
    {
     "name": "stdout",
     "output_type": "stream",
     "text": [
      "There are 12 missing years\n",
      "There are 49 uniqe Experience_Years\n",
      "The unique years are:  ['5' '7' '12' '4' '17' '6' '8' '15' '2' '25' 'nan' '14' '11' '18' '13'\n",
      " '30' '10' '3' '40' '26' '23' '9' '19' '20' '5.5' '22' '16' '0.8' '1'\n",
      " '1.5' '6.5' '21' '7.5' '2.5' '28' '29' '1,5' '24' '0' '4.5' '27'\n",
      " '1 (as qa engineer) / 11 in total' '2,5' '15, thereof 8 as cto' '31'\n",
      " '6 (not as a data scientist, but as a lab scientist)' '383' '3.5'\n",
      " 'less than year']\n"
     ]
    }
   ],
   "source": [
    "missing_yrs = df[df['Experience_Years'].isin(nulls)]\n",
    "print(\"There are\",len(missing_yrs),\"missing years\")\n",
    "print(\"There are\",len(df['Experience_Years'].unique()),\"uniqe Experience_Years\")\n",
    "print(\"The unique years are: \",df['Experience_Years'].unique())"
   ]
  },
  {
   "cell_type": "code",
   "execution_count": 113,
   "metadata": {},
   "outputs": [],
   "source": [
    "\n",
    "def clean_years(df):\n",
    "    df[YEARS]=df[YEARS].str.lower()\n",
    "    df[YEARS]=df[YEARS]\\\n",
    "    .replace('1,5','1.5')\\\n",
    "    .replace('1 (as qa engineer) / 11 in total','11')\\\n",
    "    .replace('2,5','2.5')\\\n",
    "    .replace('15, thereof 8 as cto','15')\\\n",
    "    .replace('6 (not as a data scientist, but as a lab scientist)','6')\\\n",
    "    .replace('less than year','0.5')\\\n",
    "    .replace('383','5')\n",
    "\n",
    "    return df\n"
   ]
  },
  {
   "cell_type": "code",
   "execution_count": 114,
   "metadata": {},
   "outputs": [],
   "source": [
    "df = clean_years(df)"
   ]
  },
  {
   "cell_type": "code",
   "execution_count": 115,
   "metadata": {},
   "outputs": [
    {
     "name": "stdout",
     "output_type": "stream",
     "text": [
      "There are 42 uniqe position\n",
      "The unique years are:  ['5' '7' '12' '4' '17' '6' '8' '15' '2' '25' '14' '11' '18' '13' '30' '10'\n",
      " '3' '40' '26' '23' '9' '19' '20' '5.5' '22' '16' '0.8' '1' '1.5' '6.5'\n",
      " '21' '7.5' '2.5' '28' '29' '24' '0' '4.5' '27' '31' '3.5' '0.5']\n"
     ]
    }
   ],
   "source": [
    "df = df[~df[YEARS].isin(nulls)]\n",
    "print(\"There are\",len(df[YEARS].unique()),\"uniqe position\")\n",
    "print(\"The unique years are: \",df[YEARS].unique())"
   ]
  },
  {
   "cell_type": "code",
   "execution_count": 116,
   "metadata": {},
   "outputs": [
    {
     "name": "stdout",
     "output_type": "stream",
     "text": [
      "0     5.0\n",
      "1     7.0\n",
      "2    12.0\n",
      "3     4.0\n",
      "4    17.0\n",
      "Name: Experience_Years, dtype: float64\n"
     ]
    }
   ],
   "source": [
    "df[YEARS] = df[YEARS].astype('float64')\n",
    "print(df[YEARS].head(5))"
   ]
  },
  {
   "cell_type": "code",
   "execution_count": 117,
   "metadata": {},
   "outputs": [
    {
     "name": "stdout",
     "output_type": "stream",
     "text": [
      "Mean years:  8.648134831460673\n",
      "Median years:  8.0\n",
      "Standard deviation of years:  5.171138376036199\n",
      "Max years:  40.0\n",
      "Min years:  0.0\n"
     ]
    }
   ],
   "source": [
    "mean_years = df[YEARS].mean()\n",
    "median_years = df[YEARS].median()\n",
    "std_years = df[YEARS].std()\n",
    "max_years = df[YEARS].max()\n",
    "min_years = df[YEARS].min()\n",
    "\n",
    "# display the computed statistics\n",
    "print('Mean years: ',mean_years)\n",
    "print('Median years: ', median_years)\n",
    "print('Standard deviation of years: ', std_years)\n",
    "print('Max years: ', max_years)\n",
    "print('Min years: ', min_years)"
   ]
  },
  {
   "cell_type": "code",
   "execution_count": 118,
   "metadata": {},
   "outputs": [
    {
     "data": {
      "image/png": "[encoded data removed]",
      "text/plain": [
       "<Figure size 432x288 with 1 Axes>"
      ]
     },
     "metadata": {
      "needs_background": "light"
     },
     "output_type": "display_data"
    }
   ],
   "source": [
    "import matplotlib.pyplot as plt\n",
    "import seaborn as sns\n",
    "sns.histplot(data=df[YEARS], kde=True, binwidth=5)\n",
    "plt.xlabel('Years of Experience')\n",
    "plt.ylabel('Count')\n",
    "plt.title('Distribution of Years of Experience')\n",
    "plt.show()"
   ]
  },
  {
   "attachments": {},
   "cell_type": "markdown",
   "metadata": {},
   "source": [
    "1-Expectation :\n",
    "I thins the mean will be around 10-15 years of experience, is the IT field has started growing in the last 15 years.\n",
    "\n",
    "2-After collecting:\n",
    "It's clear that the data mean of years of experience is between 5-10 years. \n",
    "\n",
    "3-Comparing Data and expectations:\n",
    "not exact but close to what is expected. ✔"
   ]
  },
  {
   "cell_type": "code",
   "execution_count": 119,
   "metadata": {},
   "outputs": [
    {
     "data": {
      "image/png": "[encoded data removed]",
      "text/plain": [
       "<Figure size 432x288 with 1 Axes>"
      ]
     },
     "metadata": {
      "needs_background": "light"
     },
     "output_type": "display_data"
    }
   ],
   "source": [
    "import numpy as np\n",
    "import matplotlib.pyplot as plt\n",
    "\n",
    "sns.boxplot(x=POSITION, y=YEARS, data=df)\n",
    "plt.xticks(rotation=90)\n",
    "plt.show()"
   ]
  },
  {
   "cell_type": "code",
   "execution_count": 120,
   "metadata": {},
   "outputs": [
    {
     "name": "stdout",
     "output_type": "stream",
     "text": [
      "Mean years for Software Engineer is : 10.067970204841712\n",
      "Mean years for Backend Developer is : 9.055294117647058\n",
      "Mean years for Frontend Developer is : 6.788461538461538\n",
      "Mean years for DevOps is : 10.157894736842104\n",
      "Mean years for Data Scientist is : 5.724458204334366\n",
      "Mean years for designer (ui/ux) is : 8.5625\n",
      "Mean years for Product Manager is : 10.025974025974026\n",
      "Mean years for Mobile Developer is : 8.365\n",
      "Mean years for Other is : 9.516071428571427\n",
      "Mean years for Software Testing is : 8.25\n",
      "Mean years for ML Engineer is : 5.710666666666667\n",
      "Mean years for system administrator is : 12.5\n",
      "Mean years for CTO is : 14.083333333333334\n",
      "Mean years for IT is : 9.461538461538462\n",
      "Mean years for researcher is : 8.76923076923077\n",
      "Mean years for embedded developer is : 9.428571428571429\n",
      "Mean years for qa is : 7.767857142857143\n"
     ]
    }
   ],
   "source": [
    "for position in df[POSITION].unique():\n",
    "    mean_years = df[df[POSITION] == position][YEARS].mean()\n",
    "    median_years = df[df[POSITION] == position][YEARS].median()\n",
    "    std_years = df[df[POSITION] == position][YEARS].std()\n",
    "    # display the computed statistics\n",
    "    print('Mean years for',position,'is :',mean_years)\n"
   ]
  },
  {
   "attachments": {},
   "cell_type": "markdown",
   "metadata": {},
   "source": [
    "Now we will filter on Seniority level, to focus on the needed years of experience for the seniors only"
   ]
  },
  {
   "cell_type": "code",
   "execution_count": 121,
   "metadata": {},
   "outputs": [
    {
     "name": "stdout",
     "output_type": "stream",
     "text": [
      "['senior' 'lead' 'junior' 'middle' 'head' 'nan' 'no level' 'vp' 'manager'\n",
      " 'work center manager' 'cto' 'no level ' 'director' 'key'\n",
      " 'c-level executive manager' 'principal' 'intern' 'student'\n",
      " 'no idea, there are no ranges in the firm ' 'c-level' 'working student'\n",
      " 'entry level' 'self employed']\n"
     ]
    }
   ],
   "source": [
    "print(df[SENIORITY].unique()) "
   ]
  },
  {
   "attachments": {},
   "cell_type": "markdown",
   "metadata": {},
   "source": [
    "Needs cleaning to be 4 levels only:     \n",
    "Senior           \n",
    "Mid level           \n",
    "Junior          \n",
    "Student"
   ]
  },
  {
   "cell_type": "code",
   "execution_count": 122,
   "metadata": {},
   "outputs": [],
   "source": [
    "def clean_senior_col(df):\n",
    "    meaninigless_values = ['nan','no idea, there are no ranges in the firm','no level','no level ']\n",
    "    df = df[~df['Seniority'].isin(meaninigless_values)]\n",
    "    for i, row in df.iterrows():\n",
    "            if row['Seniority'] in ['principal','cto','manager','director','head','lead','vp','work center manager','c-level executive manager','c-level','key']:\n",
    "                df.at[i,'Seniority'] = 'senior'\n",
    "            elif  row['Seniority'] in ['junior','intern','student','working student','entry level']:\n",
    "                df.at[i,'Seniority'] = 'junior'\n",
    "    seniority_counts = df['Seniority'].value_counts()\n",
    "    seniority_counts = seniority_counts[seniority_counts >= 2]\n",
    "    df = df[df['Seniority'].isin(seniority_counts.index)]\n",
    "    return df"
   ]
  },
  {
   "cell_type": "code",
   "execution_count": 123,
   "metadata": {},
   "outputs": [
    {
     "name": "stdout",
     "output_type": "stream",
     "text": [
      "2198\n"
     ]
    }
   ],
   "source": [
    "df = clean_senior_col(df)\n",
    "print(len(df[SENIORITY]))"
   ]
  },
  {
   "cell_type": "code",
   "execution_count": 124,
   "metadata": {},
   "outputs": [
    {
     "data": {
      "image/png": "[encoded data removed]",
      "text/plain": [
       "<Figure size 432x288 with 1 Axes>"
      ]
     },
     "metadata": {
      "needs_background": "light"
     },
     "output_type": "display_data"
    }
   ],
   "source": [
    "sns.histplot(data=df[df['Seniority'] == 'senior'][YEARS], kde=True, binwidth=5)\n",
    "plt.xlabel('Years of Experience')\n",
    "plt.ylabel('Count')\n",
    "plt.title('Distribution of Years of Experience')\n",
    "plt.show()"
   ]
  },
  {
   "attachments": {},
   "cell_type": "markdown",
   "metadata": {},
   "source": [
    "The histogram shows that to be a senior, regardless of field/position most of them it needs at least 10 years"
   ]
  },
  {
   "attachments": {},
   "cell_type": "markdown",
   "metadata": {},
   "source": [
    "Let's explore more for the needed years per position"
   ]
  },
  {
   "cell_type": "code",
   "execution_count": 125,
   "metadata": {},
   "outputs": [
    {
     "data": {
      "image/png": "[encoded data removed]",
      "text/plain": [
       "<Figure size 432x288 with 1 Axes>"
      ]
     },
     "metadata": {
      "needs_background": "light"
     },
     "output_type": "display_data"
    }
   ],
   "source": [
    "import numpy as np\n",
    "import matplotlib.pyplot as plt\n",
    "\n",
    "sns.boxplot(x=POSITION, y=YEARS, data=df[df[SENIORITY] == 'senior'])\n",
    "plt.xticks(rotation=90)\n",
    "plt.show()"
   ]
  },
  {
   "attachments": {},
   "cell_type": "markdown",
   "metadata": {},
   "source": [
    "We can see that there is disparity in the needed years fo expereince to become a senior in each position,                                                                                               \n",
    "                                                                            \n",
    "For example, the average needed years for the QA is around 5-6 years,Unlike for the researcher position\n",
    "where you need at least 8-9 years and on average it around 12 years! That's interesting.   \n",
    "                                                                                                         \n",
    "We can categorize the positions into two types .                    \n",
    "1- 10-15 Needed years which includes :[ SW ,BE, DevOps, Product Manager, Others, CTO,IT,Researcher,Embedded ]                   \n",
    "2- 5-10 Needed years which includes : [FE, UI/UX designer, Mobile Development, Data Scientist, Software Testing, ML, QA]                \n"
   ]
  },
  {
   "cell_type": "code",
   "execution_count": 127,
   "metadata": {},
   "outputs": [],
   "source": [
    "import statsmodels.api as sm\n",
    "from statsmodels.formula.api import ols\n",
    "# define null and alternative hypotheses\n",
    "# we assume alpha = 0.05\n",
    "null_hypothesis = 'There is no significant difference in the means of years of experience across positions'\n",
    "alternative_hypothesis = 'There is a significant difference in the means of years of experience across positions'"
   ]
  },
  {
   "cell_type": "code",
   "execution_count": 128,
   "metadata": {},
   "outputs": [
    {
     "name": "stdout",
     "output_type": "stream",
     "text": [
      "                sum_sq      df          F        PR(>F)\n",
      "Position   3317.342442    15.0  10.367815  6.107754e-24\n",
      "Residual  29095.522775  1364.0        NaN           NaN\n",
      "Reject null hypothesis. There is a significant difference in the means of years of experience across positions\n"
     ]
    }
   ],
   "source": [
    "# perform one-way ANOVA test\n",
    "model = ols('Experience_Years ~ Position', data=df[df[SENIORITY] == 'senior']).fit()\n",
    "anova_table = sm.stats.anova_lm(model, typ=2)\n",
    "# print ANOVA table\n",
    "print(anova_table)\n",
    "\n",
    "# interpret p-value\n",
    "p_value = anova_table['PR(>F)'][0]\n",
    "if p_value < 0.05:\n",
    "    print('Reject null hypothesis. ' + alternative_hypothesis)\n",
    "else:\n",
    "    print('Cannot reject null hypothesis. ' + null_hypothesis)"
   ]
  }
 ],
 "metadata": {
  "kernelspec": {
   "display_name": "base",
   "language": "python",
   "name": "python3"
  },
  "language_info": {
   "codemirror_mode": {
    "name": "ipython",
    "version": 3
   },
   "file_extension": ".py",
   "mimetype": "text/x-python",
   "name": "python",
   "nbconvert_exporter": "python",
   "pygments_lexer": "ipython3",
   "version": "3.9.12"
  },
  "orig_nbformat": 4
 },
 "nbformat": 4,
 "nbformat_minor": 2
}
